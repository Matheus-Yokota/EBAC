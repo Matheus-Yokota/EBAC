{
  "nbformat": 4,
  "nbformat_minor": 0,
  "metadata": {
    "colab": {
      "provenance": []
    },
    "kernelspec": {
      "name": "python3",
      "display_name": "Python 3"
    },
    "language_info": {
      "name": "python"
    }
  },
  "cells": [
    {
      "cell_type": "markdown",
      "source": [
        "# Cálculo - Tarefa 02\n",
        "\n",
        "1- Calcule de forma numérica a integral da função $x^3$ avaliada entre os pontos $1$ e $2$. Identifique o número de retângulos que você usou.  \n",
        "2- Calcule essa área de forma analítica."
      ],
      "metadata": {
        "id": "A2mbdKhuIFdy"
      }
    },
    {
      "cell_type": "markdown",
      "source": [
        "## Método numérico"
      ],
      "metadata": {
        "id": "R7fzYHMiRyv6"
      }
    },
    {
      "cell_type": "code",
      "source": [
        "# Importando as bibliotecas\n",
        "\n",
        "import numpy as np\n",
        "import matplotlib.pyplot as plt\n",
        "\n",
        "from matplotlib.animation import FuncAnimation, PillowWriter\n",
        "\n",
        "%matplotlib inline"
      ],
      "metadata": {
        "id": "Jm3TfC9cHoi8"
      },
      "execution_count": 4,
      "outputs": []
    },
    {
      "cell_type": "code",
      "execution_count": 73,
      "metadata": {
        "id": "_gpxPYGJHkUv"
      },
      "outputs": [],
      "source": [
        "# Função x³\n",
        "\n",
        "f = lambda x: x ** 3\n",
        "\n",
        "\n",
        "# Essa função calcula o valor da soma dos 'n' divisões em retângulo da área da função f\n",
        "\n",
        "def calcula_area(a, b, func, frame_num):\n",
        "    num_bins=frame_num+1 # Quantidade de retângulos\n",
        "    delta = (b-a)/num_bins # largura do retângulo\n",
        "    x_cols = np.linspace(a, b-delta, num_bins)+delta/2 # Divisão do eixo X\n",
        "    y_cols = f(x_cols) # alturas dos retângulos\n",
        "    return sum(delta*y_cols)"
      ]
    },
    {
      "cell_type": "code",
      "source": [
        "# Criei um laço de repetição para verificar a convergência do método numérico.\n",
        "\n",
        "# Considerando 03 casas decimais, o valor converge para 3.75 com a área da função divida em 28 retângulos.\n",
        "\n",
        "for i in range(0, 30):\n",
        "    print(f'{i+1}: {round(calcula_area(a=1, b=2, func=f, frame_num=i), 3)}')"
      ],
      "metadata": {
        "colab": {
          "base_uri": "https://localhost:8080/"
        },
        "id": "2an-HfvgOMdP",
        "outputId": "2483f20a-4a2c-4c93-ad70-22d373c1e434"
      },
      "execution_count": 74,
      "outputs": [
        {
          "output_type": "stream",
          "name": "stdout",
          "text": [
            "1: 3.375\n",
            "2: 3.656\n",
            "3: 3.708\n",
            "4: 3.727\n",
            "5: 3.735\n",
            "6: 3.74\n",
            "7: 3.742\n",
            "8: 3.744\n",
            "9: 3.745\n",
            "10: 3.746\n",
            "11: 3.747\n",
            "12: 3.747\n",
            "13: 3.748\n",
            "14: 3.748\n",
            "15: 3.748\n",
            "16: 3.749\n",
            "17: 3.749\n",
            "18: 3.749\n",
            "19: 3.749\n",
            "20: 3.749\n",
            "21: 3.749\n",
            "22: 3.749\n",
            "23: 3.749\n",
            "24: 3.749\n",
            "25: 3.749\n",
            "26: 3.749\n",
            "27: 3.749\n",
            "28: 3.75\n",
            "29: 3.75\n",
            "30: 3.75\n"
          ]
        }
      ]
    },
    {
      "cell_type": "markdown",
      "source": [
        "## Método analítico\n",
        "\n",
        "\n",
        "$$∫x^{3}dx=\\frac{1}{4}x^{4}+C$$\n",
        "\n",
        "Com o intervalo definido de 1 a 2:\n",
        "\n",
        "$$\\frac{1}{4}{2}^{4}-\\frac{1}{4}1^{4}=\\frac{16}{4}-\\frac{1}{4}=\\frac{15}{4}=3.75$$"
      ],
      "metadata": {
        "id": "-QIdDPw7RuvE"
      }
    },
    {
      "cell_type": "code",
      "source": [
        "def animate(n, a=1, b=2, func=f, verdadeiro_valor = 3.75):\n",
        "\n",
        "    plt.cla()  # Limpa o gráfico anterior para montar o próxim frame\n",
        "    ax = plt.axes(xlim=(a, b), ylim = (0, 1.2))  # Monta o sistema de eixos\n",
        "\n",
        "    # Plota a função\n",
        "    x = np.linspace(a ,b, 100)\n",
        "    y = f(x)\n",
        "    ax.plot(x, y, '-');\n",
        "\n",
        "    # Define as quebras e as alturas das colunas\n",
        "    num_bins=n+1\n",
        "    delta = (b-a)/num_bins\n",
        "    x_cols = np.linspace(a, b-delta, num_bins)+delta/2\n",
        "    y_cols = f(x_cols)\n",
        "\n",
        "    # plota barras\n",
        "    bar = ax.bar(x_cols, y_cols, alpha=.5, width = delta, edgecolor='blue')\n",
        "\n",
        "    # Área dos retângulos\n",
        "    soma_riemann = calcula_area(a, b, func, n)\n",
        "\n",
        "    # Erro\n",
        "    erro = verdadeiro_valor - soma_riemann\n",
        "    ax.set_title(f'Soma de Riemann = {soma_riemann:.2f} erro = {erro:.4f}')\n",
        "\n",
        "    return bar"
      ],
      "metadata": {
        "id": "9P-B6mJwsN79"
      },
      "execution_count": 77,
      "outputs": []
    },
    {
      "cell_type": "code",
      "source": [
        "animate(28)"
      ],
      "metadata": {
        "colab": {
          "base_uri": "https://localhost:8080/",
          "height": 469
        },
        "id": "fjCJ-T4vsXkP",
        "outputId": "7bfef511-edbb-4896-e2c5-81678a20dc00"
      },
      "execution_count": 78,
      "outputs": [
        {
          "output_type": "execute_result",
          "data": {
            "text/plain": [
              "<BarContainer object of 29 artists>"
            ]
          },
          "metadata": {},
          "execution_count": 78
        },
        {
          "output_type": "display_data",
          "data": {
            "text/plain": [
              "<Figure size 640x480 with 2 Axes>"
            ],
            "image/png": "[encoded data removed]"
          },
          "metadata": {}
        }
      ]
    }
  ]
}