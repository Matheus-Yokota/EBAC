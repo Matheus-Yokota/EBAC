{
 "cells": [
  {
   "cell_type": "markdown",
   "metadata": {},
   "source": [
    "### 01 - Teste de gravidez\n",
    "Escreva uma célula com controle de fluxos que tem como premissa a existência das seguintes variáveis:\n",
    "\n",
    "- ```sexo``` como ```str``` indicando os valores '**M**' para masculino e '**F**' para feminino  \n",
    "- ```beta_hcg``` que indica a quantidade do beta-HCG no sangue em mUI/mL.\n",
    "\n",
    "A sua tarefa é escrever um código que imprima como resultado \"indivíduo do sexo masculino\" quando sexo = 'M', caso sexo = 'F', se o valor de beta-HCG for maior que 5, retorne \"Positivo\" indicando que a paciente está grávida, e retorne \"Negativo\" caso contrário.\n",
    "\n",
    "Não mexa nos valores da variável ```sexo``` nem em ```beta_hcg```, e escreva um código que funcione para quaisquer valores possíveis de ambos: ```sexo``` = '**M**' ou '**F**' e ```beta_hcg``` assumindo valores inteiros positivos."
   ]
  },
  {
   "cell_type": "code",
   "execution_count": 5,
   "metadata": {},
   "outputs": [
    {
     "name": "stdout",
     "output_type": "stream",
     "text": [
      "Indivíduo do sexo masculino.\n"
     ]
    }
   ],
   "source": [
    "sexo = 'M' \n",
    "beta_hcg = 0\n",
    "\n",
    "# seu código vem abaixo desta linha\n",
    "\n",
    "if sexo == 'F':\n",
    "    if beta_hcg > 5:\n",
    "        print('Positivo.')\n",
    "    else:\n",
    "        print('Negativo.')\n",
    "else:\n",
    "    print('Indivíduo do sexo masculino.')\n",
    "\n",
    "# O código verifica se o sexo é feminino, se for ele entra no primeiro 'if'.\n",
    "# Em seguida verifica se o beta_hcg é maior ou menor que 5, se for maior entra no segundo 'if', se for menor vai para o 'else'.\n",
    "# Caso o sexo seja masculino ele vai direto para o 'else' no final do código.\n",
    "\n",
    "# Para incrementar o código, tornando-o mais dinâmico e interativo, poderiamos usar o 'input' e deixar o usuário atribuir o valor das variárias."
   ]
  },
  {
   "cell_type": "markdown",
   "metadata": {},
   "source": [
    "### 02 - Renomeando variáveis\n",
    "\n",
    "Vamos ver adiante que uma forma de renomear variáveis de um conjunto de dados é através de dicionários - o dicionário deve conter como chave o nome original, associando a cada chave um único valor (tipo *str*) que contenha o nome novo.\n",
    "\n",
    "A sua tarefa é escrever um dicionário que possa ser utilizado para traduzir as variáveis ```name``` (nome), ```age``` (idade) e ```income``` (renda). Ou seja, esse dicionário deve relacionar as chaves *name, age* e *income* às suas respectivas traduções."
   ]
  },
  {
   "cell_type": "code",
   "execution_count": 15,
   "metadata": {},
   "outputs": [
    {
     "name": "stdout",
     "output_type": "stream",
     "text": [
      "nome\n"
     ]
    }
   ],
   "source": [
    "dic_renomeacao = {'name': 'nome', 'age': 'idade', 'income': 'renda'} # Dicionário com a tradução das palavras em inglês. A chave é a palavra e inglês e o valor é a tradução para português.\n",
    "\n",
    "chave_dicionario = input('Digite \"name\", \"age\" ou \"income\", para saber a tradução.')\n",
    "\n",
    "print(dic_renomeacao[chave_dicionario])"
   ]
  },
  {
   "cell_type": "markdown",
   "metadata": {},
   "source": [
    "### 03 - É divisível?\n",
    "A sua tarefa é escrever um código que indique se um número ```N``` é divisível por um número P. Escreva um programa que faça essa verificação para quaisquer combinações de ```N``` e ```M``` e devolva uma mensagem indicativa no output."
   ]
  },
  {
   "cell_type": "code",
   "execution_count": 19,
   "metadata": {},
   "outputs": [
    {
     "name": "stdout",
     "output_type": "stream",
     "text": [
      "M não é divisível por P.\n",
      "N não é divisível por P.\n",
      "M não é divisível por N.\n",
      "N é divisível por M.\n"
     ]
    }
   ],
   "source": [
    "N = 42\n",
    "M = 7\n",
    "\n",
    "#Seu código\n",
    "\n",
    "P = int(input('Digite um número:'))\n",
    "\n",
    "# O operador utilizado neste código será o '%' que dá como resultado o resto da divisão.\n",
    "\n",
    "resto_M = M % P\n",
    "resto_N = N % P\n",
    "\n",
    "# Essa parte do código é para saber se M é divisível por P.\n",
    "if resto_M == 0:\n",
    "    print('M é divisível por P.')\n",
    "else:\n",
    "    print('M não é divisível por P.')\n",
    "\n",
    "\n",
    "# Nesta parte do código é para saber se N é divisível por P.\n",
    "if resto_N == 0:\n",
    "    print('N é divisível por P.')\n",
    "else:\n",
    "    print('N não é divisível por P.')\n",
    "\n",
    "\n",
    "\n",
    "resto_M_N = M % N\n",
    "resto_N_M = N % M\n",
    "\n",
    "\n",
    "if resto_M_N == 0:\n",
    "    print('M é divisível por N.')\n",
    "else:\n",
    "    print('M não é divisível por N.')\n",
    "\n",
    "\n",
    "\n",
    "if resto_N_M == 0:\n",
    "    print('N é divisível por M.')\n",
    "else:\n",
    "    print('N não é divisível por M.')"
   ]
  },
  {
   "cell_type": "markdown",
   "metadata": {},
   "source": [
    "### 04 - Números primos\n",
    "> Um número **N** é primo se e somente se é divisível por 1, -1, por **N** e por -**N**.  \n",
    "\n",
    "Escreva um script que verifica se ```N``` é um número primo, verificando se ```N``` é divisível por todos os números de ```1``` a ```N-1```. Você vai precisar usar alguma ferramenta de *loop* que você aprendeu para isto. No final, devolva uma mensagem no output indicando se o número é primo ou não."
   ]
  },
  {
   "cell_type": "code",
   "execution_count": 36,
   "metadata": {},
   "outputs": [
    {
     "name": "stdout",
     "output_type": "stream",
     "text": [
      "101 é um número primo.\n"
     ]
    }
   ],
   "source": [
    "N = 47\n",
    "\n",
    "# seu código abaixo\n",
    "\n",
    "contador = 2 # O contador inicia no 2, pois todos os números são divisíveis por 1.\n",
    "primo = 0 # Essa variável irá indicar se um número é primo ou não, se ao final da verificação ele continuar sendo igual à 0 então o número é primo.\n",
    "\n",
    "if N != 1 and N != -1 and N != 0: # O número 1 e -1 não são primos. Não se pode dividir zero.\n",
    "\n",
    "    if N != 2 and N != -2: # O número 2 é primo, o único número par que é primo. Daria para fazer sem esse if, mas teria que colocar outro if perguntado se primo é igual à 1 e N é igual a 2.\n",
    "\n",
    "        while contador < N: # O while irá fazer a repetição até um N-1.\n",
    "            if N % contador == 0: # Se o resto da divisão for igual à 0, então ele não é primo.\n",
    "                primo += 1\n",
    "            contador += 1\n",
    "        if primo == 0: # Terminada a repetição, verifica se o valor de primo continua sendo 0.\n",
    "            print(f'{N} é um número primo.')\n",
    "        else:\n",
    "            print(f'{N} não é um número primo.')\n",
    "            \n",
    "    else:\n",
    "        print('Dois é primo.')\n",
    "else:\n",
    "    print('Os números \"0\", \"1\" e \"-1\" não são primos.')"
   ]
  },
  {
   "cell_type": "markdown",
   "metadata": {},
   "source": [
    "### 05 - Desafio\n",
    "O algorítmo do exercício anterior não é o mais eficiente. O que você pode fazer para deixá-lo mais eficiente? Ou seja, executar menos comparações, portanto consumir menos tempo.\n",
    "1. Será que precisamos correr o loop até o final sempre?\n",
    "2. Será que precisamos mesmo verificar **todos** os números?\n",
    "3. Será que precisamos ir até N-1?\n",
    "\n",
    "Essas perguntas levam ao tipo de pensamento voltado a deixar um algoritmo mais eficiente. Veja se você consegue melhorar o seu."
   ]
  },
  {
   "cell_type": "code",
   "execution_count": 52,
   "metadata": {},
   "outputs": [
    {
     "name": "stdout",
     "output_type": "stream",
     "text": [
      "98 não é primo\n"
     ]
    }
   ],
   "source": [
    "N = 98\n",
    "\n",
    "# seu código aqui\n",
    "\n",
    "# O loop não precisa ir até o final sempre, ele pode ir até a \"N/2\" ou algo perto disso, talvez N/2+1 ou N/2-1.\n",
    "# Ele pode verificar apenas os números ímpares, dado que o único número primo que é par é o número 2.\n",
    "# Se o número logo no início já for divisível, posso parar a repetição.\n",
    "\n",
    "\n",
    "contador = 3 # Contador inicia no 3, pois 2 é o único número par que é primo.\n",
    "primo = 0\n",
    "\n",
    "if N == 2 or N == -2: # Faço a verificação do 2.\n",
    "    print('Dois é primo.')\n",
    "elif N == 1 or N == -1 or N == 0: # Verificação do 1, -1 e 0.\n",
    "    print('\"0\", \"1\" e \"-1\" não são primos.')\n",
    "elif N % 2 == 0: # Verificação dos números pares.\n",
    "    print(f'{N} não é primo')\n",
    "else:\n",
    "    while contador < N/2: # Minha repetição vai apenas até a metade do número.\n",
    "        if N % contador == 0:\n",
    "            primo += 1\n",
    "\n",
    "        if primo != 0:\n",
    "            break\n",
    "        \n",
    "        contador += 2 # Verifico apenas os números ímpares.\n",
    "    \n",
    "    if primo == 0: # Verificação final para saber se um número é primo ou não.\n",
    "        print(f'{N} é primo.')\n",
    "    else:\n",
    "        print(f'{N} não é primo.')"
   ]
  },
  {
   "cell_type": "markdown",
   "metadata": {},
   "source": [
    "### 06 - Peso ideal 1\n",
    "O IMC (índice de massa corpórea) é um indicador de saúde mais bem aceito que o peso. Ele é calculado como:\n",
    "\n",
    "$$ IMC = \\dfrac{peso}{altura^2}$$\n",
    "\n",
    "Segundo a OMS, valores *normais* são entre 18.5 e 24.9.\n",
    "\n",
    "Sua tarefa é encontrar o ponto médio dessa faixa."
   ]
  },
  {
   "cell_type": "code",
   "execution_count": 53,
   "metadata": {},
   "outputs": [
    {
     "data": {
      "text/plain": [
       "21.7"
      ]
     },
     "execution_count": 53,
     "metadata": {},
     "output_type": "execute_result"
    }
   ],
   "source": [
    "imc_ideal = (18.5 + 24.9) / 2 # O ponto médio, ao meu ver, é a média.\n",
    "print(imc_ideal)"
   ]
  },
  {
   "cell_type": "markdown",
   "metadata": {},
   "source": [
    "### 07 - Peso ideal 2\n",
    "Recebendo um valor de altura, encontre o peso '*ideal*' dessa pessoa, que fornece o IMC encontrado acima"
   ]
  },
  {
   "cell_type": "code",
   "execution_count": 60,
   "metadata": {},
   "outputs": [
    {
     "name": "stdout",
     "output_type": "stream",
     "text": [
      "62.71\n"
     ]
    }
   ],
   "source": [
    "altura = 1.70\n",
    "\n",
    "# Seu código\n",
    "\n",
    "imc_ideal = 21.7 # O IMC ideal encontrado no exercício anterior foi de 21.7\n",
    "\n",
    "# Utilizando a equação fornecida pode-se calcular o peso ideal desta peso, para a altuda informada.\n",
    "peso_ideal = imc_ideal * (altura ** 2)\n",
    "\n",
    "peso_ideal = round(peso_ideal, ndigits= 2)\n",
    "\n",
    "print(peso_ideal)"
   ]
  },
  {
   "cell_type": "markdown",
   "metadata": {},
   "source": [
    "### 08 - Peso ideal 3\n",
    "Dada uma lista contendo as alturas de pacientes, crie uma nova lista que contenha o peso '*ideal*' (que fornece o IMC calculado em **Peso ideal 1**) desses pacientes."
   ]
  },
  {
   "cell_type": "code",
   "execution_count": 58,
   "metadata": {},
   "outputs": [
    {
     "name": "stdout",
     "output_type": "stream",
     "text": [
      "[82.51, 91.19, 62.71, 59.08]\n"
     ]
    }
   ],
   "source": [
    "lista_alturas = [1.95, 2.05, 1.70, 1.65]\n",
    "\n",
    "lista_peso_ideal = []\n",
    "\n",
    "# seu código\n",
    "\n",
    "imc_ideal = 21.7 #Pego novamente o valor do imc ideal\n",
    "\n",
    "for altura in lista_alturas: # Realizo o cálculo para cada altura usando um laço de repetição.\n",
    "    peso_ideal_1 = imc_ideal * (altura ** 2)\n",
    "    lista_peso_ideal.append(round(peso_ideal_1, ndigits=2))\n",
    "\n",
    "print(lista_peso_ideal)"
   ]
  },
  {
   "cell_type": "markdown",
   "metadata": {},
   "source": [
    "### 09 - Peso ideal 4\n",
    "Dada uma lista de tuplas - cada elemento da lista é uma tupla contendo altura e peso de um paciente - crie uma nova lista com o IMC desses pacientes."
   ]
  },
  {
   "cell_type": "code",
   "execution_count": 1,
   "metadata": {},
   "outputs": [
    {
     "name": "stdout",
     "output_type": "stream",
     "text": [
      "[27.78, 27.55, 19.19]\n"
     ]
    }
   ],
   "source": [
    "altura_peso = [(1.80, 90), (1.65, 75), (1.91, 70)]\n",
    "\n",
    "imc = []\n",
    "\n",
    "# seu código\n",
    "\n",
    "for dado in altura_peso:\n",
    "    altura, peso = dado # Distribuo o valor valor da altura e peso para variáveis\n",
    "    imc_calculado = peso / (altura ** 2) # Calculo o imc\n",
    "    imc.append(round(imc_calculado, ndigits=2)) # Adiciono na lista\n",
    "\n",
    "print(imc)"
   ]
  },
  {
   "cell_type": "markdown",
   "metadata": {},
   "source": [
    "### 10 - Peso ideal 5\n",
    "Dada uma lista de **listas** - cada elemento da lista é uma **lista** contendo altura e peso de um paciente, adicione mais um elemento à lista de cada paciente contendo o IMC do paciente. Verifique também se é 'baixo', 'normal' ou 'alto' segundo os padrões da OMS em que normal é entre 18.5 e 24.9.\n",
    "\n",
    "Reflexão: por que no problema anterior temos que criar uma nova lista, e não podemos adicionar os dados de cada indivíduo à tupla?"
   ]
  },
  {
   "cell_type": "code",
   "execution_count": 3,
   "metadata": {},
   "outputs": [
    {
     "data": {
      "text/plain": [
       "[[1.8, 90, 27.78, 'alto'],\n",
       " [1.65, 75, 27.55, 'alto'],\n",
       " [1.91, 70, 19.19, 'normal']]"
      ]
     },
     "execution_count": 3,
     "metadata": {},
     "output_type": "execute_result"
    }
   ],
   "source": [
    "altura_peso = [[1.80, 90], [1.65, 75], [1.91, 70]]\n",
    "\n",
    "# seu código\n",
    "i = 0 # Essa é uma variável contadora para saber em qual parte da lista eu estou\n",
    "\n",
    "for dado in altura_peso: # Estrutura de repetição para acessar os elementos da lista\n",
    "    altura_1, peso_1 = dado # Distribuindo os valores em variáveis\n",
    "    imc_calculado_1 = peso_1 / (altura_1 ** 2) # Calculando o imc\n",
    "    altura_peso[i].append(round(imc_calculado_1, ndigits=2)) # Adiciona o valor do imc para para os elementos das lista\n",
    "\n",
    "\n",
    "    if imc_calculado_1 < 18.5: # Estrutura de decisão para saber se o imc está abaixo, normal ou alto.\n",
    "        altura_peso[i].append('baixo')\n",
    "    elif imc_calculado_1 > 24.9:\n",
    "        altura_peso[i].append('alto')\n",
    "    else:\n",
    "        altura_peso[i].append('normal')\n",
    "\n",
    "    \n",
    "    i += 1\n",
    "\n",
    "altura_peso\n",
    "\n",
    "\n",
    "# Reflexão: No exercício anterior precisamos criar uma nova lista porque as tuplas são conjuntos imutáveis. \n",
    "# Se não quiser criar uma nova lista, pode transformar a tupla numa lista, fazer a adição dos dados e depois voltar para tupla."
   ]
  }
 ],
 "metadata": {
  "kernelspec": {
   "display_name": "Python 3",
   "language": "python",
   "name": "python3"
  },
  "language_info": {
   "codemirror_mode": {
    "name": "ipython",
    "version": 3
   },
   "file_extension": ".py",
   "mimetype": "text/x-python",
   "name": "python",
   "nbconvert_exporter": "python",
   "pygments_lexer": "ipython3",
   "version": "3.11.3"
  }
 },
 "nbformat": 4,
 "nbformat_minor": 4
}
