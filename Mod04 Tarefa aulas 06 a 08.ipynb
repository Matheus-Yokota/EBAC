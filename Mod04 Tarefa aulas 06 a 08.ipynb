{
 "cells": [
  {
   "cell_type": "markdown",
   "metadata": {},
   "source": [
    "# Tarefa 03\n",
    "\n",
    "- Leia os enunciados com atenção\n",
    "- Saiba que pode haver mais de uma resposta correta\n",
    "- Insira novas células de código sempre que achar necessário\n",
    "- Em caso de dúvidas, procure os Tutores\n",
    "- Divirta-se :)"
   ]
  },
  {
   "cell_type": "code",
   "execution_count": 1,
   "metadata": {},
   "outputs": [],
   "source": [
    "import pandas as pd\n",
    "import requests"
   ]
  },
  {
   "cell_type": "markdown",
   "metadata": {},
   "source": [
    "####  1) Lendo de APIs\n",
    "Vimos em aula como carregar dados públicos do governo através de um API (*Application Programming Interface*). No exemplo de aula, baixamos os dados de pedidos de verificação de limites (PVL) realizados por estados, e selecionamos apenas aqueles referentes ao estado de São Paulo.\n",
    "\n",
    "1. Repita os mesmos passos feitos em aula, mas selecione os PVLs realizados por municípios no estado do Rio de Janeiro.\n",
    "2. Quais são os três *status* das solicitações mais frequentes na base? Quais são suas frequências?\n",
    "3. Construa uma nova variável que contenha o ano do **status**. Observe que ```data_status``` vem como tipo *object* no **DataFrame**. Dica: você pode usar o método ```.str``` para transformar o tipo da variável em string, em seguida um método como [**slice()**](https://pandas.pydata.org/docs/reference/api/pandas.Series.str.slice.html) ou [**split()**](https://pandas.pydata.org/pandas-docs/stable/reference/api/pandas.Series.str.split.html).\n",
    "4. Indique a frequência de cada ano do campo construído no item (3)."
   ]
  },
  {
   "cell_type": "code",
   "execution_count": 2,
   "metadata": {},
   "outputs": [],
   "source": [
    "# 1) Seu código aqui\n",
    "\n",
    "# Inicialmente pegamos os dados da PVL para os municípios do estado do Rio de Janeiro.\n",
    "\n",
    "url = 'https://apidatalake.tesouro.gov.br/ords/sadipem/tt/pvl?uf=RJ&tipo_interessado=Estado'"
   ]
  },
  {
   "cell_type": "code",
   "execution_count": 3,
   "metadata": {},
   "outputs": [],
   "source": [
    "# Usando o requests alocamos os dados em uma variável.\n",
    "\n",
    "r = requests.get(url)"
   ]
  },
  {
   "cell_type": "code",
   "execution_count": 4,
   "metadata": {},
   "outputs": [
    {
     "data": {
      "text/plain": [
       "200"
      ]
     },
     "execution_count": 4,
     "metadata": {},
     "output_type": "execute_result"
    }
   ],
   "source": [
    "r.status_code"
   ]
  },
  {
   "cell_type": "code",
   "execution_count": 5,
   "metadata": {},
   "outputs": [],
   "source": [
    "data_jason = r.json()"
   ]
  },
  {
   "cell_type": "code",
   "execution_count": 6,
   "metadata": {},
   "outputs": [
    {
     "name": "stdout",
     "output_type": "stream",
     "text": [
      "[{'id_pleito': 12410, 'tipo_interessado': 'Estado', 'interessado': 'Rio de Janeiro', 'cod_ibge': 33, 'uf': 'RJ', 'num_pvl': None, 'status': 'Encaminhado à PGFN com manifestação técnica favorável', 'num_processo': '17944.001680/2011-92', 'data_protocolo': '2012-04-16T03:00:00Z', 'tipo_operacao': 'Operação contratual externa (com garantia da União)', 'finalidade': 'Infraestrutura', 'tipo_credor': 'Instituição Financeira Internacional', 'credor': 'Banco Internacional para Reconstrução e Desenvolvimento', 'moeda': 'Dólar dos EUA', 'valor': 600000000, 'pvl_assoc_divida': 1, 'pvl_contradado_credor': 0, 'data_status': '10/07/2012'}, {'id_pleito': 9050, 'tipo_interessado': 'Estado', 'interessado': 'Rio de Janeiro', 'cod_ibge': 33, 'uf': 'RJ', 'num_pvl': None, 'status': 'Encaminhado à PGFN com manifestação técnica favorável', 'num_processo': '17944.000893/2010-16', 'data_protocolo': '2011-06-03T03:00:00Z', 'tipo_operacao': 'Operação contratual interna (com garantia da União)', 'finalidade': 'Infraestrutura', 'tipo_credor': 'Instituição Financeira Nacional', 'credor': 'Caixa Econômica Federal', 'moeda': 'Real', 'valor': 259138332.31, 'pvl_assoc_divida': 1, 'pvl_contradado_credor': 0, 'data_status': '04/07/2011'}, {'id_pleito': 13271, 'tipo_interessado': 'Estado', 'interessado': 'Rio de Janeiro', 'cod_ibge': 33, 'uf': 'RJ', 'num_pvl': None, 'status': 'Encaminhado à PGFN com manifestação técnica favorável', 'num_processo': '17944.001999/2008-12', 'data_protocolo': '2009-07-01T03:00:00Z', 'tipo_operacao': 'Operação contratual externa (com garantia da União)', 'finalidade': 'Desenvolvimento rural', 'tipo_credor': 'Instituição Financeira Internacional', 'credor': 'Banco Internacional para Reconstrução e Desenvolvimento', 'moeda': 'Dólar dos EUA', 'valor': 39500000, 'pvl_assoc_divida': 1, 'pvl_contradado_credor': 0, 'data_status': '07/07/2009'}, {'id_pleito': 5918, 'tipo_interessado': 'Estado', 'interessado': 'Rio de Janeiro', 'cod_ibge': 33, 'uf': 'RJ', 'num_pvl': None, 'status': 'Encaminhado à PGFN com manifestação técnica favorável', 'num_processo': '17944.000233/2012-05', 'data_protocolo': '2012-04-16T03:00:00Z', 'tipo_operacao': 'Operação contratual externa (com garantia da União)', 'finalidade': 'Infraestrutura', 'tipo_credor': 'Instituição Financeira Internacional', 'credor': 'Corporação Andina de Fomento', 'moeda': 'Dólar dos EUA', 'valor': 319675000, 'pvl_assoc_divida': 1, 'pvl_contradado_credor': 0, 'data_status': '11/03/2016'}, {'id_pleito': 6833, 'tipo_interessado': 'Estado', 'interessado': 'Rio de Janeiro', 'cod_ibge': 33, 'uf': 'RJ', 'num_pvl': None, 'status': 'Deferido', 'num_processo': '17944.000440/2008-75', 'data_protocolo': '2008-04-11T03:00:00Z', 'tipo_operacao': 'Operação contratual interna', 'finalidade': 'Multissetorial', 'tipo_credor': 'Instituição Financeira Nacional', 'credor': 'Banco Nacional de Desenvolvimento Econômico e Social', 'moeda': 'Real', 'valor': 15000000, 'pvl_assoc_divida': 1, 'pvl_contradado_credor': 0, 'data_status': '18/04/2008'}, {'id_pleito': 13629, 'tipo_interessado': 'Estado', 'interessado': 'Rio de Janeiro', 'cod_ibge': 33, 'uf': 'RJ', 'num_pvl': None, 'status': 'Deferido', 'num_processo': '19405.000040/2002-05', 'data_protocolo': '2002-06-20T03:00:00Z', 'tipo_operacao': 'Operação contratual interna', 'finalidade': 'Aquisição de máquinas, equipamentos e veículos', 'tipo_credor': 'Instituição Financeira Nacional', 'credor': 'Banco Nacional de Desenvolvimento Econômico e Social', 'moeda': 'Real', 'valor': 43527550, 'pvl_assoc_divida': 1, 'pvl_contradado_credor': 0, 'data_status': '27/06/2002'}, {'id_pleito': 5923, 'tipo_interessado': 'Estado', 'interessado': 'Rio de Janeiro', 'cod_ibge': 33, 'uf': 'RJ', 'num_pvl': None, 'status': 'Encaminhado à PGFN com manifestação técnica favorável', 'num_processo': '17944.000234/2012-41', 'data_protocolo': '2012-04-16T03:00:00Z', 'tipo_operacao': 'Operação contratual externa (com garantia da União)', 'finalidade': 'Infraestrutura', 'tipo_credor': 'Instituição Financeira Internacional', 'credor': 'Corporação Andina de Fomento', 'moeda': 'Dólar dos EUA', 'valor': 200000000, 'pvl_assoc_divida': 1, 'pvl_contradado_credor': 0, 'data_status': '04/10/2012'}, {'id_pleito': 8528, 'tipo_interessado': 'Estado', 'interessado': 'Rio de Janeiro', 'cod_ibge': 33, 'uf': 'RJ', 'num_pvl': None, 'status': 'Deferido', 'num_processo': '17944.000793/2009-56', 'data_protocolo': '2009-07-17T03:00:00Z', 'tipo_operacao': 'Operação contratual interna', 'finalidade': 'Aquisição de terrenos, imóveis e/ou construção de instalações', 'tipo_credor': 'Instituição Financeira Nacional', 'credor': 'Banco Nacional de Desenvolvimento Econômico e Social', 'moeda': 'Real', 'valor': 157000000, 'pvl_assoc_divida': 1, 'pvl_contradado_credor': 0, 'data_status': '24/07/2009'}, {'id_pleito': 7057, 'tipo_interessado': 'Estado', 'interessado': 'Rio de Janeiro', 'cod_ibge': 33, 'uf': 'RJ', 'num_pvl': None, 'status': 'Encaminhado à PGFN com manifestação técnica favorável', 'num_processo': '17944.000487/2014-87', 'data_protocolo': '2014-04-24T03:00:00Z', 'tipo_operacao': 'Operação contratual interna (com garantia da União)', 'finalidade': 'Infraestrutura', 'tipo_credor': 'Instituição Financeira Nacional', 'credor': 'Banco Nacional de Desenvolvimento Econômico e Social', 'moeda': 'Real', 'valor': 3000000000, 'pvl_assoc_divida': 1, 'pvl_contradado_credor': 0, 'data_status': '04/07/2014'}, {'id_pleito': 7084, 'tipo_interessado': 'Estado', 'interessado': 'Rio de Janeiro', 'cod_ibge': 33, 'uf': 'RJ', 'num_pvl': None, 'status': 'Encaminhado à PGFN com manifestação técnica favorável', 'num_processo': '17944.000493/2010-19', 'data_protocolo': '2010-08-06T03:00:00Z', 'tipo_operacao': 'Operação contratual externa (com garantia da União)', 'finalidade': 'Fortalecimento Institucional', 'tipo_credor': 'Instituição Financeira Internacional', 'credor': 'Banco Internacional para Reconstrução e Desenvolvimento', 'moeda': 'Dólar dos EUA', 'valor': 18673000, 'pvl_assoc_divida': 1, 'pvl_contradado_credor': 0, 'data_status': '19/08/2010'}, {'id_pleito': 21660, 'tipo_interessado': 'Estado', 'interessado': 'Rio de Janeiro', 'cod_ibge': 33, 'uf': 'RJ', 'num_pvl': '00000.000000/2026-68', 'status': 'Arquivado a pedido', 'num_processo': '17944.000245/2016-55', 'data_protocolo': '2016-03-11T03:00:00Z', 'tipo_operacao': 'Operação contratual interna (com garantia da União)', 'finalidade': 'Fortalecimento Institucional', 'tipo_credor': 'Instituição Financeira Nacional', 'credor': 'Banco do Brasil S/A', 'moeda': 'Real', 'valor': 1000000000, 'pvl_assoc_divida': 0, 'pvl_contradado_credor': 0, 'data_status': '16/05/2016'}, {'id_pleito': 13483, 'tipo_interessado': 'Estado', 'interessado': 'Rio de Janeiro', 'cod_ibge': 33, 'uf': 'RJ', 'num_pvl': None, 'status': 'Deferido', 'num_processo': '19405.000010/2004-52', 'data_protocolo': '2006-02-15T02:00:00Z', 'tipo_operacao': 'Operação contratual interna', 'finalidade': 'Renegociação de dívidas', 'tipo_credor': 'Instituição Financeira Nacional', 'credor': 'Banco Nacional de Desenvolvimento Econômico e Social', 'moeda': 'Real', 'valor': 847526319.24, 'pvl_assoc_divida': 1, 'pvl_contradado_credor': 0, 'data_status': '01/03/2006'}, {'id_pleito': 5645, 'tipo_interessado': 'Estado', 'interessado': 'Rio de Janeiro', 'cod_ibge': 33, 'uf': 'RJ', 'num_pvl': None, 'status': 'Encaminhado à PGFN com manifestação técnica favorável', 'num_processo': '17944.000161/2013-79', 'data_protocolo': '2013-04-08T03:00:00Z', 'tipo_operacao': 'Operação contratual interna (com garantia da União)', 'finalidade': 'Infraestrutura', 'tipo_credor': 'Instituição Financeira Nacional', 'credor': 'Banco Nacional de Desenvolvimento Econômico e Social', 'moeda': 'Real', 'valor': 3031405000, 'pvl_assoc_divida': 1, 'pvl_contradado_credor': 0, 'data_status': '06/05/2013'}, {'id_pleito': 4997, 'tipo_interessado': 'Estado', 'interessado': 'Rio de Janeiro', 'cod_ibge': 33, 'uf': 'RJ', 'num_pvl': None, 'status': 'Deferido', 'num_processo': '17944.000020/2010-11', 'data_protocolo': '2010-04-19T03:00:00Z', 'tipo_operacao': 'Operação contratual interna', 'finalidade': 'PMAE', 'tipo_credor': 'Instituição Financeira Nacional', 'credor': 'Banco Nacional de Desenvolvimento Econômico e Social', 'moeda': 'Real', 'valor': 9982000, 'pvl_assoc_divida': 1, 'pvl_contradado_credor': 0, 'data_status': '20/04/2010'}, {'id_pleito': 7129, 'tipo_interessado': 'Estado', 'interessado': 'Rio de Janeiro', 'cod_ibge': 33, 'uf': 'RJ', 'num_pvl': None, 'status': 'Encaminhado à PGFN com manifestação técnica favorável', 'num_processo': '17944.000504/2014-86', 'data_protocolo': '2014-04-02T03:00:00Z', 'tipo_operacao': 'Operação contratual interna (com garantia da União)', 'finalidade': 'Infraestrutura', 'tipo_credor': 'Instituição Financeira Nacional', 'credor': 'Banco BTG Pactual S.A.', 'moeda': 'Real', 'valor': 450000000, 'pvl_assoc_divida': 1, 'pvl_contradado_credor': 0, 'data_status': '01/09/2014'}, {'id_pleito': 7141, 'tipo_interessado': 'Estado', 'interessado': 'Rio de Janeiro', 'cod_ibge': 33, 'uf': 'RJ', 'num_pvl': None, 'status': 'Encaminhado à PGFN com manifestação técnica favorável', 'num_processo': '17944.000506/2014-75', 'data_protocolo': '2014-04-02T03:00:00Z', 'tipo_operacao': 'Operação contratual interna (com garantia da União)', 'finalidade': 'Desenvolvimento sustentável', 'tipo_credor': 'Instituição Financeira Nacional', 'credor': 'Banco de Investimentos Credit Suisse (Brasil) S.A.', 'moeda': 'Real', 'valor': 600000000, 'pvl_assoc_divida': 1, 'pvl_contradado_credor': 0, 'data_status': '01/09/2014'}, {'id_pleito': 10890, 'tipo_interessado': 'Estado', 'interessado': 'Rio de Janeiro', 'cod_ibge': 33, 'uf': 'RJ', 'num_pvl': None, 'status': 'Encaminhado à PGFN com manifestação técnica favorável', 'num_processo': '17944.001308/2012-67', 'data_protocolo': '2012-10-17T03:00:00Z', 'tipo_operacao': 'Operação contratual interna (com garantia da União)', 'finalidade': 'Proinveste', 'tipo_credor': 'Instituição Financeira Nacional', 'credor': 'Banco do Brasil S/A', 'moeda': 'Real', 'valor': 940956773.22, 'pvl_assoc_divida': 1, 'pvl_contradado_credor': 0, 'data_status': '20/11/2012'}, {'id_pleito': 13624, 'tipo_interessado': 'Estado', 'interessado': 'Rio de Janeiro', 'cod_ibge': 33, 'uf': 'RJ', 'num_pvl': None, 'status': 'Deferido', 'num_processo': '19405.000039/2002-72', 'data_protocolo': '2002-06-20T03:00:00Z', 'tipo_operacao': 'Operação contratual interna', 'finalidade': 'Infraestrutura', 'tipo_credor': 'Instituição Financeira Nacional', 'credor': 'Banco Nacional de Desenvolvimento Econômico e Social', 'moeda': 'Real', 'valor': 67482400, 'pvl_assoc_divida': 1, 'pvl_contradado_credor': 0, 'data_status': '27/06/2002'}, {'id_pleito': 10673, 'tipo_interessado': 'Estado', 'interessado': 'Rio de Janeiro', 'cod_ibge': 33, 'uf': 'RJ', 'num_pvl': None, 'status': 'Encaminhado à PGFN com manifestação técnica favorável', 'num_processo': '17944.001256/2010-67', 'data_protocolo': '2011-06-03T03:00:00Z', 'tipo_operacao': 'Operação contratual interna (com garantia da União)', 'finalidade': 'PAC - Copa Estádios', 'tipo_credor': 'Instituição Financeira Nacional', 'credor': 'Banco Nacional de Desenvolvimento Econômico e Social', 'moeda': 'Real', 'valor': 400000000, 'pvl_assoc_divida': 1, 'pvl_contradado_credor': 0, 'data_status': '04/07/2011'}, {'id_pleito': 9750, 'tipo_interessado': 'Estado', 'interessado': 'Rio de Janeiro', 'cod_ibge': 33, 'uf': 'RJ', 'num_pvl': None, 'status': 'Deferido', 'num_processo': '17944.001046/2006-92', 'data_protocolo': '2006-07-07T03:00:00Z', 'tipo_operacao': 'Operação contratual interna', 'finalidade': 'Infraestrutura', 'tipo_credor': 'Instituição Financeira Nacional', 'credor': 'Banco Nacional de Desenvolvimento Econômico e Social', 'moeda': 'Real', 'valor': 305737280, 'pvl_assoc_divida': 1, 'pvl_contradado_credor': 0, 'data_status': '13/07/2006'}, {'id_pleito': 8556, 'tipo_interessado': 'Estado', 'interessado': 'Rio de Janeiro', 'cod_ibge': 33, 'uf': 'RJ', 'num_pvl': None, 'status': 'Encaminhado à PGFN com manifestação técnica favorável', 'num_processo': '17944.000797/2010-78', 'data_protocolo': '2011-06-30T03:00:00Z', 'tipo_operacao': 'Operação contratual externa (com garantia da União)', 'finalidade': 'Multissetorial', 'tipo_credor': 'Instituição Financeira Internacional', 'credor': 'Banco Interamericano de Desenvolvimento', 'moeda': 'Dólar dos EUA', 'valor': 112000000, 'pvl_assoc_divida': 1, 'pvl_contradado_credor': 0, 'data_status': '04/07/2011'}, {'id_pleito': 10002, 'tipo_interessado': 'Estado', 'interessado': 'Rio de Janeiro', 'cod_ibge': 33, 'uf': 'RJ', 'num_pvl': None, 'status': 'Encaminhado à PGFN com manifestação técnica favorável', 'num_processo': '17944.001097/2009-67', 'data_protocolo': '2009-09-09T03:00:00Z', 'tipo_operacao': 'Operação contratual externa (com garantia da União)', 'finalidade': 'Profisco', 'tipo_credor': 'Instituição Financeira Internacional', 'credor': 'Banco Interamericano de Desenvolvimento', 'moeda': 'Dólar dos EUA', 'valor': 19759050, 'pvl_assoc_divida': 1, 'pvl_contradado_credor': 0, 'data_status': '28/09/2009'}, {'id_pleito': 7080, 'tipo_interessado': 'Estado', 'interessado': 'Rio de Janeiro', 'cod_ibge': 33, 'uf': 'RJ', 'num_pvl': None, 'status': 'Encaminhado à PGFN com manifestação técnica favorável', 'num_processo': '17944.000492/2012-28', 'data_protocolo': '2012-04-16T03:00:00Z', 'tipo_operacao': 'Operação contratual externa (com garantia da União)', 'finalidade': 'Multissetorial', 'tipo_credor': 'Instituição Financeira Internacional', 'credor': 'Banco Internacional para Reconstrução e Desenvolvimento', 'moeda': 'Dólar dos EUA', 'valor': 300000000, 'pvl_assoc_divida': 1, 'pvl_contradado_credor': 0, 'data_status': '03/09/2012'}, {'id_pleito': 7085, 'tipo_interessado': 'Estado', 'interessado': 'Rio de Janeiro', 'cod_ibge': 33, 'uf': 'RJ', 'num_pvl': None, 'status': 'Encaminhado à PGFN com manifestação técnica favorável', 'num_processo': '17944.000493/2012-72', 'data_protocolo': '2012-04-16T03:00:00Z', 'tipo_operacao': 'Operação contratual externa (com garantia da União)', 'finalidade': 'Infraestrutura', 'tipo_credor': 'Instituição Financeira Internacional', 'credor': 'Corporação Andina de Fomento', 'moeda': 'Dólar dos EUA', 'valor': 120666000, 'pvl_assoc_divida': 1, 'pvl_contradado_credor': 0, 'data_status': '04/10/2012'}, {'id_pleito': 5516, 'tipo_interessado': 'Estado', 'interessado': 'Rio de Janeiro', 'cod_ibge': 33, 'uf': 'RJ', 'num_pvl': None, 'status': 'Encaminhado à PGFN com manifestação técnica favorável', 'num_processo': '17944.000131/2011-09', 'data_protocolo': '2011-06-30T03:00:00Z', 'tipo_operacao': 'Operação contratual externa (com garantia da União)', 'finalidade': 'Desenvolvimento sustentável', 'tipo_credor': 'Instituição Financeira Internacional', 'credor': 'Banco Internacional para Reconstrução e Desenvolvimento', 'moeda': 'Dólar dos EUA', 'valor': 485000000, 'pvl_assoc_divida': 1, 'pvl_contradado_credor': 0, 'data_status': '04/07/2011'}, {'id_pleito': 11306, 'tipo_interessado': 'Estado', 'interessado': 'Rio de Janeiro', 'cod_ibge': 33, 'uf': 'RJ', 'num_pvl': None, 'status': 'Encaminhado à PGFN com manifestação técnica favorável', 'num_processo': '17944.001408/2009-98', 'data_protocolo': '2009-11-23T02:00:00Z', 'tipo_operacao': 'Operação contratual externa (com garantia da União)', 'finalidade': 'Fortalecimento Institucional', 'tipo_credor': 'Instituição Financeira Internacional', 'credor': 'Banco Internacional para Reconstrução e Desenvolvimento', 'moeda': 'Dólar dos EUA', 'valor': 485000000, 'pvl_assoc_divida': 1, 'pvl_contradado_credor': 0, 'data_status': '25/11/2009'}, {'id_pleito': 21388, 'tipo_interessado': 'Estado', 'interessado': 'Rio de Janeiro', 'cod_ibge': 33, 'uf': 'RJ', 'num_pvl': '00000.000000/2024-66', 'status': 'Encaminhado à PGFN com manifestação técnica favorável', 'num_processo': '17944.000158/2016-06', 'data_protocolo': '2016-02-19T02:00:00Z', 'tipo_operacao': 'Operação contratual interna (com garantia da União)', 'finalidade': 'Infraestrutura', 'tipo_credor': 'Instituição Financeira Nacional', 'credor': 'Banco Nacional de Desenvolvimento Econômico e Social', 'moeda': 'Real', 'valor': 444811123.92, 'pvl_assoc_divida': 1, 'pvl_contradado_credor': 0, 'data_status': '26/02/2016'}, {'id_pleito': 7187, 'tipo_interessado': 'Estado', 'interessado': 'Rio de Janeiro', 'cod_ibge': 33, 'uf': 'RJ', 'num_pvl': None, 'status': 'Encaminhado à PGFN com manifestação técnica favorável', 'num_processo': '17944.000517/2012-93', 'data_protocolo': '2012-04-16T03:00:00Z', 'tipo_operacao': 'Operação contratual externa (com garantia da União)', 'finalidade': 'Infraestrutura', 'tipo_credor': 'Instituição Financeira Internacional', 'credor': 'Agência Francesa de Desenvolvimento', 'moeda': 'Dólar dos EUA', 'valor': 394500000, 'pvl_assoc_divida': 1, 'pvl_contradado_credor': 0, 'data_status': '28/08/2012'}, {'id_pleito': 10849, 'tipo_interessado': 'Estado', 'interessado': 'Rio de Janeiro', 'cod_ibge': 33, 'uf': 'RJ', 'num_pvl': None, 'status': 'Encaminhado à PGFN com manifestação técnica favorável', 'num_processo': '17944.001300/2012-09', 'data_protocolo': '2013-03-04T03:00:00Z', 'tipo_operacao': 'Operação contratual interna (com garantia da União)', 'finalidade': 'Multissetorial', 'tipo_credor': 'Instituição Financeira Nacional', 'credor': 'Caixa Econômica Federal', 'moeda': 'Real', 'valor': 1199871427, 'pvl_assoc_divida': 1, 'pvl_contradado_credor': 0, 'data_status': '01/04/2013'}, {'id_pleito': 11961, 'tipo_interessado': 'Estado', 'interessado': 'Rio de Janeiro', 'cod_ibge': 33, 'uf': 'RJ', 'num_pvl': None, 'status': 'Encaminhado à PGFN com manifestação técnica favorável', 'num_processo': '17944.001569/2009-81', 'data_protocolo': '2009-12-04T02:00:00Z', 'tipo_operacao': 'Operação contratual interna (com garantia da União)', 'finalidade': 'PEF - Programa Emergencial de Financiamento dos Estados/DF 2', 'tipo_credor': 'Instituição Financeira Nacional', 'credor': 'Banco do Brasil S/A', 'moeda': 'Real', 'valor': 91662000, 'pvl_assoc_divida': 1, 'pvl_contradado_credor': 0, 'data_status': '09/12/2009'}, {'id_pleito': 9042, 'tipo_interessado': 'Estado', 'interessado': 'Rio de Janeiro', 'cod_ibge': 33, 'uf': 'RJ', 'num_pvl': None, 'status': 'Arquivado a pedido', 'num_processo': '17944.000891/2013-70', 'data_protocolo': '2013-09-20T03:00:00Z', 'tipo_operacao': 'Operação contratual interna (com garantia da União)', 'finalidade': 'Infraestrutura', 'tipo_credor': 'Instituição Financeira Nacional', 'credor': 'Banco Itaú BBA S.A.', 'moeda': 'Real', 'valor': 400000000, 'pvl_assoc_divida': 0, 'pvl_contradado_credor': 0, 'data_status': '05/02/2014'}, {'id_pleito': 5952, 'tipo_interessado': 'Estado', 'interessado': 'Rio de Janeiro', 'cod_ibge': 33, 'uf': 'RJ', 'num_pvl': None, 'status': 'Deferido', 'num_processo': '17944.000243/2012-32', 'data_protocolo': '2012-04-16T03:00:00Z', 'tipo_operacao': 'Operação contratual interna', 'finalidade': 'Infraestrutura', 'tipo_credor': 'Instituição Financeira Nacional', 'credor': 'Banco Nacional de Desenvolvimento Econômico e Social', 'moeda': 'Real', 'valor': 157954512.78, 'pvl_assoc_divida': 1, 'pvl_contradado_credor': 0, 'data_status': '14/05/2012'}, {'id_pleito': 5933, 'tipo_interessado': 'Estado', 'interessado': 'Rio de Janeiro', 'cod_ibge': 33, 'uf': 'RJ', 'num_pvl': None, 'status': 'Encaminhado à PGFN com manifestação técnica favorável', 'num_processo': '17944.000237/2012-85', 'data_protocolo': '2012-04-16T03:00:00Z', 'tipo_operacao': 'Operação contratual externa (com garantia da União)', 'finalidade': 'Infraestrutura', 'tipo_credor': 'Instituição Financeira Internacional', 'credor': 'Corporação Andina de Fomento', 'moeda': 'Dólar dos EUA', 'valor': 100000000, 'pvl_assoc_divida': 1, 'pvl_contradado_credor': 0, 'data_status': '10/07/2012'}, {'id_pleito': 7150, 'tipo_interessado': 'Estado', 'interessado': 'Rio de Janeiro', 'cod_ibge': 33, 'uf': 'RJ', 'num_pvl': None, 'status': 'Encaminhado à PGFN com manifestação técnica favorável', 'num_processo': '17944.000508/2012-01', 'data_protocolo': '2013-03-04T03:00:00Z', 'tipo_operacao': 'Operação contratual externa (com garantia da União)', 'finalidade': 'Desenvolvimento rural', 'tipo_credor': 'Instituição Financeira Internacional', 'credor': 'Banco Internacional para Reconstrução e Desenvolvimento', 'moeda': 'Dólar dos EUA', 'valor': 100000000, 'pvl_assoc_divida': 1, 'pvl_contradado_credor': 0, 'data_status': '28/03/2013'}, {'id_pleito': 12018, 'tipo_interessado': 'Estado', 'interessado': 'Rio de Janeiro', 'cod_ibge': 33, 'uf': 'RJ', 'num_pvl': None, 'status': 'Encaminhado à PGFN com manifestação técnica favorável', 'num_processo': '17944.001583/2007-13', 'data_protocolo': '2007-12-04T02:00:00Z', 'tipo_operacao': 'Operação contratual externa (com garantia da União)', 'finalidade': 'Infraestrutura', 'tipo_credor': 'Instituição Financeira Internacional', 'credor': 'Banco Internacional para Reconstrução e Desenvolvimento', 'moeda': 'Dólar dos EUA', 'valor': 54000000, 'pvl_assoc_divida': 1, 'pvl_contradado_credor': 0, 'data_status': '06/03/2008'}, {'id_pleito': 5943, 'tipo_interessado': 'Estado', 'interessado': 'Rio de Janeiro', 'cod_ibge': 33, 'uf': 'RJ', 'num_pvl': None, 'status': 'Encaminhado à PGFN com manifestação técnica favorável', 'num_processo': '17944.000240/2012-07', 'data_protocolo': '2012-04-16T03:00:00Z', 'tipo_operacao': 'Operação contratual externa (com garantia da União)', 'finalidade': 'Multissetorial', 'tipo_credor': 'Instituição Financeira Internacional', 'credor': 'Banco Interamericano de Desenvolvimento', 'moeda': 'Dólar dos EUA', 'valor': 60000000, 'pvl_assoc_divida': 1, 'pvl_contradado_credor': 0, 'data_status': '14/09/2012'}, {'id_pleito': 13634, 'tipo_interessado': 'Estado', 'interessado': 'Rio de Janeiro', 'cod_ibge': 33, 'uf': 'RJ', 'num_pvl': None, 'status': 'Deferido', 'num_processo': '19405.000041/2002-41', 'data_protocolo': '2002-06-20T03:00:00Z', 'tipo_operacao': 'Operação contratual interna', 'finalidade': 'Aquisição de máquinas, equipamentos e veículos', 'tipo_credor': 'Instituição Financeira Nacional', 'credor': 'Banco Nacional de Desenvolvimento Econômico e Social', 'moeda': 'Real', 'valor': 60159550, 'pvl_assoc_divida': 0, 'pvl_contradado_credor': 0, 'data_status': '27/06/2002'}, {'id_pleito': 7525, 'tipo_interessado': 'Estado', 'interessado': 'Rio de Janeiro', 'cod_ibge': 33, 'uf': 'RJ', 'num_pvl': None, 'status': 'Deferido', 'num_processo': '17944.000599/2009-71', 'data_protocolo': '2009-06-17T03:00:00Z', 'tipo_operacao': 'Operação contratual interna', 'finalidade': 'PAC - Saneamento - 2008', 'tipo_credor': 'Instituição Financeira Nacional', 'credor': 'Caixa Econômica Federal', 'moeda': 'Real', 'valor': 557999999.99, 'pvl_assoc_divida': 1, 'pvl_contradado_credor': 0, 'data_status': '18/06/2009'}, {'id_pleito': 10561, 'tipo_interessado': 'Estado', 'interessado': 'Rio de Janeiro', 'cod_ibge': 33, 'uf': 'RJ', 'num_pvl': None, 'status': 'Encaminhado à PGFN com manifestação técnica favorável', 'num_processo': '17944.001228/2011-21', 'data_protocolo': '2012-04-18T03:00:00Z', 'tipo_operacao': 'Operação contratual interna (com garantia da União)', 'finalidade': 'PAC 2 - Saneamento', 'tipo_credor': 'Instituição Financeira Nacional', 'credor': 'Caixa Econômica Federal', 'moeda': 'Real', 'valor': 415372248.98, 'pvl_assoc_divida': 1, 'pvl_contradado_credor': 0, 'data_status': '02/07/2012'}, {'id_pleito': 7255, 'tipo_interessado': 'Estado', 'interessado': 'Rio de Janeiro', 'cod_ibge': 33, 'uf': 'RJ', 'num_pvl': None, 'status': 'Encaminhado à PGFN com manifestação técnica favorável', 'num_processo': '17944.000532/2012-31', 'data_protocolo': '2012-05-24T03:00:00Z', 'tipo_operacao': 'Operação contratual interna (com garantia da União)', 'finalidade': 'Infraestrutura', 'tipo_credor': 'Instituição Financeira Nacional', 'credor': 'Banco do Brasil S/A', 'moeda': 'Real', 'valor': 3645563000, 'pvl_assoc_divida': 1, 'pvl_contradado_credor': 0, 'data_status': '29/05/2012'}, {'id_pleito': 12375, 'tipo_interessado': 'Estado', 'interessado': 'Rio de Janeiro', 'cod_ibge': 33, 'uf': 'RJ', 'num_pvl': None, 'status': 'Encaminhado à PGFN com manifestação técnica favorável', 'num_processo': '17944.001671/2011-00', 'data_protocolo': '2011-10-18T02:00:00Z', 'tipo_operacao': 'Operação contratual externa (com garantia da União)', 'finalidade': 'Preservação e recuperação ambiental', 'tipo_credor': 'Instituição Financeira Internacional', 'credor': 'Banco Interamericano de Desenvolvimento', 'moeda': 'Dólar dos EUA', 'valor': 451980000, 'pvl_assoc_divida': 1, 'pvl_contradado_credor': 0, 'data_status': '27/12/2011'}, {'id_pleito': 10562, 'tipo_interessado': 'Estado', 'interessado': 'Rio de Janeiro', 'cod_ibge': 33, 'uf': 'RJ', 'num_pvl': None, 'status': 'Encaminhado à PGFN com manifestação técnica favorável', 'num_processo': '17944.001228/2013-92', 'data_protocolo': '2013-10-22T02:00:00Z', 'tipo_operacao': 'Operação contratual externa (com garantia da União)', 'finalidade': 'Infraestrutura', 'tipo_credor': 'Instituição Financeira Internacional', 'credor': 'Banco Internacional para Reconstrução e Desenvolvimento', 'moeda': 'Dólar dos EUA', 'valor': 500000000, 'pvl_assoc_divida': 1, 'pvl_contradado_credor': 0, 'data_status': '27/12/2013'}, {'id_pleito': 13364, 'tipo_interessado': 'Estado', 'interessado': 'Rio de Janeiro', 'cod_ibge': 33, 'uf': 'RJ', 'num_pvl': None, 'status': 'Encaminhado à PGFN com manifestação técnica favorável', 'num_processo': '17944.002059/2008-41', 'data_protocolo': '2009-05-14T03:00:00Z', 'tipo_operacao': 'Operação contratual externa (com garantia da União)', 'finalidade': 'Infraestrutura', 'tipo_credor': 'Instituição Financeira Internacional', 'credor': 'Banco Internacional para Reconstrução e Desenvolvimento', 'moeda': 'Dólar dos EUA', 'valor': 211700000, 'pvl_assoc_divida': 1, 'pvl_contradado_credor': 0, 'data_status': '22/05/2009'}, {'id_pleito': 9102, 'tipo_interessado': 'Estado', 'interessado': 'Rio de Janeiro', 'cod_ibge': 33, 'uf': 'RJ', 'num_pvl': None, 'status': 'Encaminhado à PGFN com manifestação técnica favorável', 'num_processo': '17944.000903/2009-80', 'data_protocolo': '2009-07-29T03:00:00Z', 'tipo_operacao': 'Operação contratual interna (com garantia da União)', 'finalidade': 'PEF - Programa Emergencial de Financiamento dos Estados/DF', 'tipo_credor': 'Instituição Financeira Nacional', 'credor': 'Banco do Brasil S/A', 'moeda': 'Real', 'valor': 61108000, 'pvl_assoc_divida': 1, 'pvl_contradado_credor': 0, 'data_status': '06/08/2009'}, {'id_pleito': 22594, 'tipo_interessado': 'Estado', 'interessado': 'Rio de Janeiro', 'cod_ibge': 33, 'uf': 'RJ', 'num_pvl': '00000.000000/2031-89', 'status': 'Arquivado por decurso de prazo', 'num_processo': '17944.000657/2016-95', 'data_protocolo': '2016-05-12T03:00:00Z', 'tipo_operacao': 'Operação contratual interna (com garantia da União)', 'finalidade': 'Infraestrutura', 'tipo_credor': 'Instituição Financeira Nacional', 'credor': 'Banco Nacional de Desenvolvimento Econômico e Social', 'moeda': 'Real', 'valor': 989210440, 'pvl_assoc_divida': 0, 'pvl_contradado_credor': 0, 'data_status': '25/10/2016'}, {'id_pleito': 10606, 'tipo_interessado': 'Estado', 'interessado': 'Rio de Janeiro', 'cod_ibge': 33, 'uf': 'RJ', 'num_pvl': None, 'status': 'Deferido', 'num_processo': '17944.001240/2009-11', 'data_protocolo': '2009-10-22T02:00:00Z', 'tipo_operacao': 'Operação contratual interna', 'finalidade': 'Aquisição de máquinas, equipamentos e veículos', 'tipo_credor': 'Instituição Financeira Nacional', 'credor': 'Banco do Brasil S/A', 'moeda': 'Real', 'valor': 20000000, 'pvl_assoc_divida': 1, 'pvl_contradado_credor': 0, 'data_status': '04/11/2009'}, {'id_pleito': 9898, 'tipo_interessado': 'Estado', 'interessado': 'Rio de Janeiro', 'cod_ibge': 33, 'uf': 'RJ', 'num_pvl': None, 'status': 'Deferido', 'num_processo': '17944.001076/2010-85', 'data_protocolo': '2011-05-25T03:00:00Z', 'tipo_operacao': 'Operação contratual interna', 'finalidade': 'Saúde', 'tipo_credor': 'Instituição Financeira Nacional', 'credor': 'Banco do Brasil S/A', 'moeda': 'Real', 'valor': 132800000, 'pvl_assoc_divida': 0, 'pvl_contradado_credor': 0, 'data_status': '07/06/2011'}, {'id_pleito': 6660, 'tipo_interessado': 'Estado', 'interessado': 'Rio de Janeiro', 'cod_ibge': 33, 'uf': 'RJ', 'num_pvl': None, 'status': 'Deferido', 'num_processo': '17944.000403/2010-81', 'data_protocolo': '2010-05-24T03:00:00Z', 'tipo_operacao': 'Operação contratual interna', 'finalidade': 'PAC - Favelas', 'tipo_credor': 'Instituição Financeira Nacional', 'credor': 'Caixa Econômica Federal', 'moeda': 'Real', 'valor': 606046612.5, 'pvl_assoc_divida': 1, 'pvl_contradado_credor': 0, 'data_status': '06/07/2010'}, {'id_pleito': 13560, 'tipo_interessado': 'Estado', 'interessado': 'Rio de Janeiro', 'cod_ibge': 33, 'uf': 'RJ', 'num_pvl': None, 'status': 'Deferido', 'num_processo': '19405.000026/2002-01', 'data_protocolo': '2002-06-25T03:00:00Z', 'tipo_operacao': 'Operação contratual interna', 'finalidade': 'Infraestrutura', 'tipo_credor': 'Instituição Financeira Nacional', 'credor': 'Banco Nacional de Desenvolvimento Econômico e Social', 'moeda': 'Real', 'valor': 49942, 'pvl_assoc_divida': 1, 'pvl_contradado_credor': 0, 'data_status': '27/06/2002'}, {'id_pleito': 5630, 'tipo_interessado': 'Estado', 'interessado': 'Rio de Janeiro', 'cod_ibge': 33, 'uf': 'RJ', 'num_pvl': None, 'status': 'Encaminhado à PGFN com manifestação técnica favorável', 'num_processo': '17944.000158/2013-55', 'data_protocolo': '2013-10-22T02:00:00Z', 'tipo_operacao': 'Operação contratual externa (com garantia da União)', 'finalidade': 'Fortalecimento Institucional', 'tipo_credor': 'Instituição Financeira Internacional', 'credor': 'Banco Internacional para Reconstrução e Desenvolvimento', 'moeda': 'Dólar dos EUA', 'valor': 48000000, 'pvl_assoc_divida': 1, 'pvl_contradado_credor': 0, 'data_status': '21/11/2013'}, {'id_pleito': 5635, 'tipo_interessado': 'Estado', 'interessado': 'Rio de Janeiro', 'cod_ibge': 33, 'uf': 'RJ', 'num_pvl': None, 'status': 'Encaminhado à PGFN com manifestação técnica favorável', 'num_processo': '17944.000159/2013-08', 'data_protocolo': '2013-04-08T03:00:00Z', 'tipo_operacao': 'Operação contratual interna (com garantia da União)', 'finalidade': 'Infraestrutura', 'tipo_credor': 'Instituição Financeira Nacional', 'credor': 'Banco do Brasil S/A', 'moeda': 'Real', 'valor': 3135800000, 'pvl_assoc_divida': 1, 'pvl_contradado_credor': 0, 'data_status': '06/05/2013'}, {'id_pleito': 5640, 'tipo_interessado': 'Estado', 'interessado': 'Rio de Janeiro', 'cod_ibge': 33, 'uf': 'RJ', 'num_pvl': None, 'status': 'Arquivado a pedido', 'num_processo': '17944.000160/2013-24', 'data_protocolo': '2013-03-18T03:00:00Z', 'tipo_operacao': 'Operação contratual externa (com garantia da União)', 'finalidade': 'Infraestrutura', 'tipo_credor': 'Instituição Financeira Internacional', 'credor': 'Bank of America Merrill Lynch', 'moeda': 'Dólar dos EUA', 'valor': 716417910.45, 'pvl_assoc_divida': 0, 'pvl_contradado_credor': 0, 'data_status': '29/07/2013'}]\n"
     ]
    }
   ],
   "source": [
    "print(data_jason['items'])"
   ]
  },
  {
   "cell_type": "code",
   "execution_count": 7,
   "metadata": {},
   "outputs": [],
   "source": [
    "# Colocamos os dados em um dataframe\n",
    "# Depois utilizo o head e o info para verificar os dados.\n",
    "\n",
    "df = pd.DataFrame(data_jason['items'])"
   ]
  },
  {
   "cell_type": "code",
   "execution_count": 8,
   "metadata": {},
   "outputs": [
    {
     "data": {
      "text/html": [
       "<div>\n",
       "<style scoped>\n",
       "    .dataframe tbody tr th:only-of-type {\n",
       "        vertical-align: middle;\n",
       "    }\n",
       "\n",
       "    .dataframe tbody tr th {\n",
       "        vertical-align: top;\n",
       "    }\n",
       "\n",
       "    .dataframe thead th {\n",
       "        text-align: right;\n",
       "    }\n",
       "</style>\n",
       "<table border=\"1\" class=\"dataframe\">\n",
       "  <thead>\n",
       "    <tr style=\"text-align: right;\">\n",
       "      <th></th>\n",
       "      <th>id_pleito</th>\n",
       "      <th>tipo_interessado</th>\n",
       "      <th>interessado</th>\n",
       "      <th>cod_ibge</th>\n",
       "      <th>uf</th>\n",
       "      <th>num_pvl</th>\n",
       "      <th>status</th>\n",
       "      <th>num_processo</th>\n",
       "      <th>data_protocolo</th>\n",
       "      <th>tipo_operacao</th>\n",
       "      <th>finalidade</th>\n",
       "      <th>tipo_credor</th>\n",
       "      <th>credor</th>\n",
       "      <th>moeda</th>\n",
       "      <th>valor</th>\n",
       "      <th>pvl_assoc_divida</th>\n",
       "      <th>pvl_contradado_credor</th>\n",
       "      <th>data_status</th>\n",
       "    </tr>\n",
       "  </thead>\n",
       "  <tbody>\n",
       "    <tr>\n",
       "      <th>0</th>\n",
       "      <td>12410</td>\n",
       "      <td>Estado</td>\n",
       "      <td>Rio de Janeiro</td>\n",
       "      <td>33</td>\n",
       "      <td>RJ</td>\n",
       "      <td>None</td>\n",
       "      <td>Encaminhado à PGFN com manifestação técnica fa...</td>\n",
       "      <td>17944.001680/2011-92</td>\n",
       "      <td>2012-04-16T03:00:00Z</td>\n",
       "      <td>Operação contratual externa (com garantia da U...</td>\n",
       "      <td>Infraestrutura</td>\n",
       "      <td>Instituição Financeira Internacional</td>\n",
       "      <td>Banco Internacional para Reconstrução e Desenv...</td>\n",
       "      <td>Dólar dos EUA</td>\n",
       "      <td>6.000000e+08</td>\n",
       "      <td>1</td>\n",
       "      <td>0</td>\n",
       "      <td>10/07/2012</td>\n",
       "    </tr>\n",
       "    <tr>\n",
       "      <th>1</th>\n",
       "      <td>9050</td>\n",
       "      <td>Estado</td>\n",
       "      <td>Rio de Janeiro</td>\n",
       "      <td>33</td>\n",
       "      <td>RJ</td>\n",
       "      <td>None</td>\n",
       "      <td>Encaminhado à PGFN com manifestação técnica fa...</td>\n",
       "      <td>17944.000893/2010-16</td>\n",
       "      <td>2011-06-03T03:00:00Z</td>\n",
       "      <td>Operação contratual interna (com garantia da U...</td>\n",
       "      <td>Infraestrutura</td>\n",
       "      <td>Instituição Financeira Nacional</td>\n",
       "      <td>Caixa Econômica Federal</td>\n",
       "      <td>Real</td>\n",
       "      <td>2.591383e+08</td>\n",
       "      <td>1</td>\n",
       "      <td>0</td>\n",
       "      <td>04/07/2011</td>\n",
       "    </tr>\n",
       "    <tr>\n",
       "      <th>2</th>\n",
       "      <td>13271</td>\n",
       "      <td>Estado</td>\n",
       "      <td>Rio de Janeiro</td>\n",
       "      <td>33</td>\n",
       "      <td>RJ</td>\n",
       "      <td>None</td>\n",
       "      <td>Encaminhado à PGFN com manifestação técnica fa...</td>\n",
       "      <td>17944.001999/2008-12</td>\n",
       "      <td>2009-07-01T03:00:00Z</td>\n",
       "      <td>Operação contratual externa (com garantia da U...</td>\n",
       "      <td>Desenvolvimento rural</td>\n",
       "      <td>Instituição Financeira Internacional</td>\n",
       "      <td>Banco Internacional para Reconstrução e Desenv...</td>\n",
       "      <td>Dólar dos EUA</td>\n",
       "      <td>3.950000e+07</td>\n",
       "      <td>1</td>\n",
       "      <td>0</td>\n",
       "      <td>07/07/2009</td>\n",
       "    </tr>\n",
       "    <tr>\n",
       "      <th>3</th>\n",
       "      <td>5918</td>\n",
       "      <td>Estado</td>\n",
       "      <td>Rio de Janeiro</td>\n",
       "      <td>33</td>\n",
       "      <td>RJ</td>\n",
       "      <td>None</td>\n",
       "      <td>Encaminhado à PGFN com manifestação técnica fa...</td>\n",
       "      <td>17944.000233/2012-05</td>\n",
       "      <td>2012-04-16T03:00:00Z</td>\n",
       "      <td>Operação contratual externa (com garantia da U...</td>\n",
       "      <td>Infraestrutura</td>\n",
       "      <td>Instituição Financeira Internacional</td>\n",
       "      <td>Corporação Andina de Fomento</td>\n",
       "      <td>Dólar dos EUA</td>\n",
       "      <td>3.196750e+08</td>\n",
       "      <td>1</td>\n",
       "      <td>0</td>\n",
       "      <td>11/03/2016</td>\n",
       "    </tr>\n",
       "    <tr>\n",
       "      <th>4</th>\n",
       "      <td>6833</td>\n",
       "      <td>Estado</td>\n",
       "      <td>Rio de Janeiro</td>\n",
       "      <td>33</td>\n",
       "      <td>RJ</td>\n",
       "      <td>None</td>\n",
       "      <td>Deferido</td>\n",
       "      <td>17944.000440/2008-75</td>\n",
       "      <td>2008-04-11T03:00:00Z</td>\n",
       "      <td>Operação contratual interna</td>\n",
       "      <td>Multissetorial</td>\n",
       "      <td>Instituição Financeira Nacional</td>\n",
       "      <td>Banco Nacional de Desenvolvimento Econômico e ...</td>\n",
       "      <td>Real</td>\n",
       "      <td>1.500000e+07</td>\n",
       "      <td>1</td>\n",
       "      <td>0</td>\n",
       "      <td>18/04/2008</td>\n",
       "    </tr>\n",
       "  </tbody>\n",
       "</table>\n",
       "</div>"
      ],
      "text/plain": [
       "   id_pleito tipo_interessado     interessado  cod_ibge  uf num_pvl  \\\n",
       "0      12410           Estado  Rio de Janeiro        33  RJ    None   \n",
       "1       9050           Estado  Rio de Janeiro        33  RJ    None   \n",
       "2      13271           Estado  Rio de Janeiro        33  RJ    None   \n",
       "3       5918           Estado  Rio de Janeiro        33  RJ    None   \n",
       "4       6833           Estado  Rio de Janeiro        33  RJ    None   \n",
       "\n",
       "                                              status          num_processo  \\\n",
       "0  Encaminhado à PGFN com manifestação técnica fa...  17944.001680/2011-92   \n",
       "1  Encaminhado à PGFN com manifestação técnica fa...  17944.000893/2010-16   \n",
       "2  Encaminhado à PGFN com manifestação técnica fa...  17944.001999/2008-12   \n",
       "3  Encaminhado à PGFN com manifestação técnica fa...  17944.000233/2012-05   \n",
       "4                                           Deferido  17944.000440/2008-75   \n",
       "\n",
       "         data_protocolo                                      tipo_operacao  \\\n",
       "0  2012-04-16T03:00:00Z  Operação contratual externa (com garantia da U...   \n",
       "1  2011-06-03T03:00:00Z  Operação contratual interna (com garantia da U...   \n",
       "2  2009-07-01T03:00:00Z  Operação contratual externa (com garantia da U...   \n",
       "3  2012-04-16T03:00:00Z  Operação contratual externa (com garantia da U...   \n",
       "4  2008-04-11T03:00:00Z                        Operação contratual interna   \n",
       "\n",
       "              finalidade                           tipo_credor  \\\n",
       "0         Infraestrutura  Instituição Financeira Internacional   \n",
       "1         Infraestrutura       Instituição Financeira Nacional   \n",
       "2  Desenvolvimento rural  Instituição Financeira Internacional   \n",
       "3         Infraestrutura  Instituição Financeira Internacional   \n",
       "4         Multissetorial       Instituição Financeira Nacional   \n",
       "\n",
       "                                              credor          moeda  \\\n",
       "0  Banco Internacional para Reconstrução e Desenv...  Dólar dos EUA   \n",
       "1                            Caixa Econômica Federal           Real   \n",
       "2  Banco Internacional para Reconstrução e Desenv...  Dólar dos EUA   \n",
       "3                       Corporação Andina de Fomento  Dólar dos EUA   \n",
       "4  Banco Nacional de Desenvolvimento Econômico e ...           Real   \n",
       "\n",
       "          valor  pvl_assoc_divida  pvl_contradado_credor data_status  \n",
       "0  6.000000e+08                 1                      0  10/07/2012  \n",
       "1  2.591383e+08                 1                      0  04/07/2011  \n",
       "2  3.950000e+07                 1                      0  07/07/2009  \n",
       "3  3.196750e+08                 1                      0  11/03/2016  \n",
       "4  1.500000e+07                 1                      0  18/04/2008  "
      ]
     },
     "execution_count": 8,
     "metadata": {},
     "output_type": "execute_result"
    }
   ],
   "source": [
    "df.head()"
   ]
  },
  {
   "cell_type": "code",
   "execution_count": 9,
   "metadata": {},
   "outputs": [
    {
     "name": "stdout",
     "output_type": "stream",
     "text": [
      "<class 'pandas.core.frame.DataFrame'>\n",
      "RangeIndex: 52 entries, 0 to 51\n",
      "Data columns (total 18 columns):\n",
      " #   Column                 Non-Null Count  Dtype  \n",
      "---  ------                 --------------  -----  \n",
      " 0   id_pleito              52 non-null     int64  \n",
      " 1   tipo_interessado       52 non-null     object \n",
      " 2   interessado            52 non-null     object \n",
      " 3   cod_ibge               52 non-null     int64  \n",
      " 4   uf                     52 non-null     object \n",
      " 5   num_pvl                3 non-null      object \n",
      " 6   status                 52 non-null     object \n",
      " 7   num_processo           52 non-null     object \n",
      " 8   data_protocolo         52 non-null     object \n",
      " 9   tipo_operacao          52 non-null     object \n",
      " 10  finalidade             52 non-null     object \n",
      " 11  tipo_credor            52 non-null     object \n",
      " 12  credor                 52 non-null     object \n",
      " 13  moeda                  52 non-null     object \n",
      " 14  valor                  52 non-null     float64\n",
      " 15  pvl_assoc_divida       52 non-null     int64  \n",
      " 16  pvl_contradado_credor  52 non-null     int64  \n",
      " 17  data_status            52 non-null     object \n",
      "dtypes: float64(1), int64(4), object(13)\n",
      "memory usage: 7.4+ KB\n"
     ]
    }
   ],
   "source": [
    "df.info()"
   ]
  },
  {
   "cell_type": "code",
   "execution_count": 10,
   "metadata": {},
   "outputs": [
    {
     "data": {
      "text/plain": [
       "Encaminhado à PGFN com manifestação técnica favorável    34\n",
       "Deferido                                                 14\n",
       "Arquivado a pedido                                        3\n",
       "Arquivado por decurso de prazo                            1\n",
       "Name: status, dtype: int64"
      ]
     },
     "execution_count": 10,
     "metadata": {},
     "output_type": "execute_result"
    }
   ],
   "source": [
    "# 2) Seu código aqui\n",
    "\n",
    "# Usando o value_counts podemos verificar quais são os dados do status e sua frequência.\n",
    "\n",
    "df['status'].value_counts()"
   ]
  },
  {
   "cell_type": "code",
   "execution_count": 11,
   "metadata": {},
   "outputs": [],
   "source": [
    "# 3) Seu código aqui\n",
    "\n",
    "# Para pegar os anos dos status criamos uma nova variável chamada data_status e colocamos as datas dos status\n",
    "\n",
    "data_status = df['data_status']"
   ]
  },
  {
   "cell_type": "code",
   "execution_count": 12,
   "metadata": {},
   "outputs": [
    {
     "data": {
      "text/plain": [
       "0     10/07/2012\n",
       "1     04/07/2011\n",
       "2     07/07/2009\n",
       "3     11/03/2016\n",
       "4     18/04/2008\n",
       "5     27/06/2002\n",
       "6     04/10/2012\n",
       "7     24/07/2009\n",
       "8     04/07/2014\n",
       "9     19/08/2010\n",
       "10    16/05/2016\n",
       "11    01/03/2006\n",
       "12    06/05/2013\n",
       "13    20/04/2010\n",
       "14    01/09/2014\n",
       "15    01/09/2014\n",
       "16    20/11/2012\n",
       "17    27/06/2002\n",
       "18    04/07/2011\n",
       "19    13/07/2006\n",
       "20    04/07/2011\n",
       "21    28/09/2009\n",
       "22    03/09/2012\n",
       "23    04/10/2012\n",
       "24    04/07/2011\n",
       "25    25/11/2009\n",
       "26    26/02/2016\n",
       "27    28/08/2012\n",
       "28    01/04/2013\n",
       "29    09/12/2009\n",
       "30    05/02/2014\n",
       "31    14/05/2012\n",
       "32    10/07/2012\n",
       "33    28/03/2013\n",
       "34    06/03/2008\n",
       "35    14/09/2012\n",
       "36    27/06/2002\n",
       "37    18/06/2009\n",
       "38    02/07/2012\n",
       "39    29/05/2012\n",
       "40    27/12/2011\n",
       "41    27/12/2013\n",
       "42    22/05/2009\n",
       "43    06/08/2009\n",
       "44    25/10/2016\n",
       "45    04/11/2009\n",
       "46    07/06/2011\n",
       "47    06/07/2010\n",
       "48    27/06/2002\n",
       "49    21/11/2013\n",
       "50    06/05/2013\n",
       "51    29/07/2013\n",
       "Name: data_status, dtype: object"
      ]
     },
     "execution_count": 12,
     "metadata": {},
     "output_type": "execute_result"
    }
   ],
   "source": [
    "data_status"
   ]
  },
  {
   "cell_type": "code",
   "execution_count": 13,
   "metadata": {},
   "outputs": [],
   "source": [
    "# Depois coloco os dados de ano dentro de uma variável\n",
    "# Para extrair o ano transformo os dados em string e pego apenas o ano.\n",
    "\n",
    "lista_anos = []\n",
    "\n",
    "for data in data_status:\n",
    "    data_valor = str(data)\n",
    "    lista_anos.append(data_valor[6:])"
   ]
  },
  {
   "cell_type": "code",
   "execution_count": 14,
   "metadata": {},
   "outputs": [
    {
     "data": {
      "text/plain": [
       "2012    11\n",
       "2009     9\n",
       "2013     7\n",
       "2011     6\n",
       "2016     4\n",
       "2002     4\n",
       "2014     4\n",
       "2010     3\n",
       "2008     2\n",
       "2006     2\n",
       "dtype: int64"
      ]
     },
     "execution_count": 14,
     "metadata": {},
     "output_type": "execute_result"
    }
   ],
   "source": [
    "# Transformo a lista em uma Series e faço a contagem de frequencia dos anos.\n",
    "\n",
    "pd.Series(lista_anos).value_counts()"
   ]
  },
  {
   "cell_type": "markdown",
   "metadata": {},
   "source": [
    "####  2) Melhorando a interação com o API\n",
    "Observe dois URLs de consultas diferentes, por exemplo o URL utilizado em aula, e o URL feito no exercício anterior. Compare-os e observe as diferenças.\n",
    "\n",
    "1. Faça uma função em Python que recebe como argumento o UF da consulta e o tipo de interessado (```'Estado'```ou ```Município```), e que devolve os dados da consulta no formato *DataFrame*.\n",
    "2. Quantas solicitações para o Estado podem ser consultadas para Minas Gerais com *status* em 'Arquivado por decurso de prazo' estão registradas?\n",
    "3. Qual é o município da Bahia com mais solicitações deferidas?\n",
    "4. Salve um arquivo .csv com os dados de solicitações da Bahia, com interessado = 'Estado'"
   ]
  },
  {
   "cell_type": "code",
   "execution_count": 39,
   "metadata": {},
   "outputs": [],
   "source": [
    "#1) Seu código aqui\n",
    "\n",
    "# Aqui temos a função que pega a UF e o tipo de interesse como parâmetros.\n",
    "# Dentro deles há uma condicional que diz se foi selecionado municipio ou estado.\n",
    "# Realizando alguns testes verifiquei que a única coisa que mudava nas urls era a UF e se era municipio.\n",
    "# Aloquei as partes da url em variáveis e depois fiz uma soma de string que junta tudo.\n",
    "# Por fim, repeti o procedimento realizado anteriormente para pegar os dados.\n",
    "\n",
    "def consulta(UF: str, interessado: str):\n",
    "\n",
    "    if interessado == 'municipio':\n",
    "        tipo_interessado = 'Munic%C3%ADpio'\n",
    "    else:\n",
    "        tipo_interessado = 'Estado'\n",
    "\n",
    "    url_1 = 'https://apidatalake.tesouro.gov.br/ords/sadipem/tt/pvl?uf='\n",
    "    url_2 = '&tipo_interessado='\n",
    "\n",
    "    url_final = url_1 + UF + url_2 + tipo_interessado\n",
    "\n",
    "    r = requests.get(url_final)\n",
    "\n",
    "    data_jason = r.json()\n",
    "\n",
    "    df_1 = pd.DataFrame(data_jason['items'])\n",
    "\n",
    "    return df_1"
   ]
  },
  {
   "cell_type": "code",
   "execution_count": 46,
   "metadata": {},
   "outputs": [],
   "source": [
    "# 2) Seu código aqui\n",
    "\n",
    "# Usei a função criada para pegar os dados da Bahia para o estado.\n",
    "\n",
    "df_2 = consulta(UF='MG', interessado='estado')"
   ]
  },
  {
   "cell_type": "code",
   "execution_count": 47,
   "metadata": {},
   "outputs": [
    {
     "data": {
      "text/plain": [
       "Encaminhado à PGFN com manifestação técnica favorável    20\n",
       "Deferido                                                  7\n",
       "Arquivado a pedido                                        5\n",
       "Arquivado                                                 3\n",
       "Arquivado pela STN                                        3\n",
       "Indeferido                                                1\n",
       "Arquivado por decurso de prazo                            1\n",
       "Name: status, dtype: int64"
      ]
     },
     "execution_count": 47,
     "metadata": {},
     "output_type": "execute_result"
    }
   ],
   "source": [
    "# Utilizei a value_counts para verificar a frequencia do status\n",
    "\n",
    "df_2['status'].value_counts()"
   ]
  },
  {
   "cell_type": "code",
   "execution_count": 48,
   "metadata": {},
   "outputs": [],
   "source": [
    "# 3) Seu código aqui\n",
    "\n",
    "# Usei novamente a função criada para Bahia, só que agora para municipio\n",
    "\n",
    "df_3 = consulta(UF='BA', interessado='municipio')"
   ]
  },
  {
   "cell_type": "code",
   "execution_count": 49,
   "metadata": {},
   "outputs": [
    {
     "data": {
      "text/html": [
       "<div>\n",
       "<style scoped>\n",
       "    .dataframe tbody tr th:only-of-type {\n",
       "        vertical-align: middle;\n",
       "    }\n",
       "\n",
       "    .dataframe tbody tr th {\n",
       "        vertical-align: top;\n",
       "    }\n",
       "\n",
       "    .dataframe thead th {\n",
       "        text-align: right;\n",
       "    }\n",
       "</style>\n",
       "<table border=\"1\" class=\"dataframe\">\n",
       "  <thead>\n",
       "    <tr style=\"text-align: right;\">\n",
       "      <th></th>\n",
       "      <th>id_pleito</th>\n",
       "      <th>tipo_interessado</th>\n",
       "      <th>interessado</th>\n",
       "      <th>cod_ibge</th>\n",
       "      <th>uf</th>\n",
       "      <th>num_pvl</th>\n",
       "      <th>status</th>\n",
       "      <th>num_processo</th>\n",
       "      <th>data_protocolo</th>\n",
       "      <th>tipo_operacao</th>\n",
       "      <th>finalidade</th>\n",
       "      <th>tipo_credor</th>\n",
       "      <th>credor</th>\n",
       "      <th>moeda</th>\n",
       "      <th>valor</th>\n",
       "      <th>pvl_assoc_divida</th>\n",
       "      <th>pvl_contradado_credor</th>\n",
       "      <th>data_status</th>\n",
       "    </tr>\n",
       "  </thead>\n",
       "  <tbody>\n",
       "    <tr>\n",
       "      <th>0</th>\n",
       "      <td>7070</td>\n",
       "      <td>Município</td>\n",
       "      <td>Nordestina</td>\n",
       "      <td>2922656</td>\n",
       "      <td>BA</td>\n",
       "      <td>None</td>\n",
       "      <td>Deferido</td>\n",
       "      <td>17944.000490/2011-58</td>\n",
       "      <td>2011-05-04T03:00:00Z</td>\n",
       "      <td>Operação contratual interna</td>\n",
       "      <td>Aquisição de máquinas, equipamentos e veículos</td>\n",
       "      <td>Instituição Financeira Nacional</td>\n",
       "      <td>Agência de Fomento do Estado da Bahia S/A</td>\n",
       "      <td>Real</td>\n",
       "      <td>700000.00</td>\n",
       "      <td>0</td>\n",
       "      <td>0</td>\n",
       "      <td>09/06/2011</td>\n",
       "    </tr>\n",
       "    <tr>\n",
       "      <th>1</th>\n",
       "      <td>9085</td>\n",
       "      <td>Município</td>\n",
       "      <td>Ituberá</td>\n",
       "      <td>2917300</td>\n",
       "      <td>BA</td>\n",
       "      <td>None</td>\n",
       "      <td>Regularizado</td>\n",
       "      <td>17944.000899/2012-55</td>\n",
       "      <td>2012-08-22T03:00:00Z</td>\n",
       "      <td>Operação contratual interna</td>\n",
       "      <td>Regularização de Dívida - Água e Esgoto</td>\n",
       "      <td>Empresa Estatal</td>\n",
       "      <td>Empresa Baiana de Águas e Saneamento S/A</td>\n",
       "      <td>Real</td>\n",
       "      <td>324083.09</td>\n",
       "      <td>0</td>\n",
       "      <td>0</td>\n",
       "      <td>10/09/2012</td>\n",
       "    </tr>\n",
       "    <tr>\n",
       "      <th>2</th>\n",
       "      <td>9246</td>\n",
       "      <td>Município</td>\n",
       "      <td>Esplanada</td>\n",
       "      <td>2910602</td>\n",
       "      <td>BA</td>\n",
       "      <td>None</td>\n",
       "      <td>Arquivado por decurso de prazo</td>\n",
       "      <td>17944.000936/2014-97</td>\n",
       "      <td>2014-05-30T03:00:00Z</td>\n",
       "      <td>Operação contratual interna</td>\n",
       "      <td>Provias</td>\n",
       "      <td>Instituição Financeira Nacional</td>\n",
       "      <td>Banco do Brasil S/A</td>\n",
       "      <td>Real</td>\n",
       "      <td>1250000.00</td>\n",
       "      <td>0</td>\n",
       "      <td>0</td>\n",
       "      <td>16/10/2014</td>\n",
       "    </tr>\n",
       "    <tr>\n",
       "      <th>3</th>\n",
       "      <td>65894</td>\n",
       "      <td>Município</td>\n",
       "      <td>Lajedão</td>\n",
       "      <td>2918902</td>\n",
       "      <td>BA</td>\n",
       "      <td>PVL02.002905/2023-07</td>\n",
       "      <td>Deferido (PVL-IF)</td>\n",
       "      <td>None</td>\n",
       "      <td>None</td>\n",
       "      <td>Operação contratual interna</td>\n",
       "      <td>Infraestrutura</td>\n",
       "      <td>Instituição Financeira Nacional</td>\n",
       "      <td>Caixa Econômica Federal</td>\n",
       "      <td>Real</td>\n",
       "      <td>5000000.00</td>\n",
       "      <td>0</td>\n",
       "      <td>0</td>\n",
       "      <td>21/07/2023</td>\n",
       "    </tr>\n",
       "    <tr>\n",
       "      <th>4</th>\n",
       "      <td>54069</td>\n",
       "      <td>Município</td>\n",
       "      <td>Várzea da Roça</td>\n",
       "      <td>2933059</td>\n",
       "      <td>BA</td>\n",
       "      <td>PVL02.003422/2021-50</td>\n",
       "      <td>Arquivado a pedido</td>\n",
       "      <td>17944.100627/2022-26</td>\n",
       "      <td>2022-02-23T18:45:22Z</td>\n",
       "      <td>Operação contratual interna (com garantia da U...</td>\n",
       "      <td>Infraestrutura</td>\n",
       "      <td>Instituição Financeira Nacional</td>\n",
       "      <td>Caixa Econômica Federal</td>\n",
       "      <td>Real</td>\n",
       "      <td>5000000.00</td>\n",
       "      <td>0</td>\n",
       "      <td>0</td>\n",
       "      <td>14/07/2022</td>\n",
       "    </tr>\n",
       "  </tbody>\n",
       "</table>\n",
       "</div>"
      ],
      "text/plain": [
       "   id_pleito tipo_interessado     interessado  cod_ibge  uf  \\\n",
       "0       7070        Município      Nordestina   2922656  BA   \n",
       "1       9085        Município         Ituberá   2917300  BA   \n",
       "2       9246        Município       Esplanada   2910602  BA   \n",
       "3      65894        Município         Lajedão   2918902  BA   \n",
       "4      54069        Município  Várzea da Roça   2933059  BA   \n",
       "\n",
       "                num_pvl                          status          num_processo  \\\n",
       "0                  None                        Deferido  17944.000490/2011-58   \n",
       "1                  None                    Regularizado  17944.000899/2012-55   \n",
       "2                  None  Arquivado por decurso de prazo  17944.000936/2014-97   \n",
       "3  PVL02.002905/2023-07               Deferido (PVL-IF)                  None   \n",
       "4  PVL02.003422/2021-50              Arquivado a pedido  17944.100627/2022-26   \n",
       "\n",
       "         data_protocolo                                      tipo_operacao  \\\n",
       "0  2011-05-04T03:00:00Z                        Operação contratual interna   \n",
       "1  2012-08-22T03:00:00Z                        Operação contratual interna   \n",
       "2  2014-05-30T03:00:00Z                        Operação contratual interna   \n",
       "3                  None                        Operação contratual interna   \n",
       "4  2022-02-23T18:45:22Z  Operação contratual interna (com garantia da U...   \n",
       "\n",
       "                                       finalidade  \\\n",
       "0  Aquisição de máquinas, equipamentos e veículos   \n",
       "1         Regularização de Dívida - Água e Esgoto   \n",
       "2                                         Provias   \n",
       "3                                  Infraestrutura   \n",
       "4                                  Infraestrutura   \n",
       "\n",
       "                       tipo_credor                                     credor  \\\n",
       "0  Instituição Financeira Nacional  Agência de Fomento do Estado da Bahia S/A   \n",
       "1                  Empresa Estatal   Empresa Baiana de Águas e Saneamento S/A   \n",
       "2  Instituição Financeira Nacional                        Banco do Brasil S/A   \n",
       "3  Instituição Financeira Nacional                    Caixa Econômica Federal   \n",
       "4  Instituição Financeira Nacional                    Caixa Econômica Federal   \n",
       "\n",
       "  moeda       valor  pvl_assoc_divida  pvl_contradado_credor data_status  \n",
       "0  Real   700000.00                 0                      0  09/06/2011  \n",
       "1  Real   324083.09                 0                      0  10/09/2012  \n",
       "2  Real  1250000.00                 0                      0  16/10/2014  \n",
       "3  Real  5000000.00                 0                      0  21/07/2023  \n",
       "4  Real  5000000.00                 0                      0  14/07/2022  "
      ]
     },
     "execution_count": 49,
     "metadata": {},
     "output_type": "execute_result"
    }
   ],
   "source": [
    "df_3.head()"
   ]
  },
  {
   "cell_type": "code",
   "execution_count": 50,
   "metadata": {},
   "outputs": [
    {
     "data": {
      "text/plain": [
       "Camaçari                  19\n",
       "Salvador                  18\n",
       "Luís Eduardo Magalhães    18\n",
       "Vitória da Conquista      15\n",
       "Amargosa                  14\n",
       "                          ..\n",
       "Itaquara                   1\n",
       "Aracatu                    1\n",
       "Lençóis                    1\n",
       "Canudos                    1\n",
       "Boninal                    1\n",
       "Name: interessado, Length: 294, dtype: int64"
      ]
     },
     "execution_count": 50,
     "metadata": {},
     "output_type": "execute_result"
    }
   ],
   "source": [
    "# Para saber qual o estado possui mais solicitações utilizei novamente o value_counts\n",
    "\n",
    "df_3['interessado'].value_counts()"
   ]
  },
  {
   "cell_type": "code",
   "execution_count": 52,
   "metadata": {},
   "outputs": [],
   "source": [
    "# 4) Seu código aqui\n",
    "\n",
    "# Usei a função para pegar os dados da BA e área de interesse estado.\n",
    "\n",
    "df_4 = consulta(UF='BA', interessado='estado')"
   ]
  },
  {
   "cell_type": "code",
   "execution_count": 53,
   "metadata": {},
   "outputs": [],
   "source": [
    "# Para salvar os dados em csv usamos o to_csv e colocamos a extensão do arquivo como csv\n",
    "\n",
    "df_4.to_csv('dataframe_BA_Estado.csv')"
   ]
  }
 ],
 "metadata": {
  "kernelspec": {
   "display_name": "Python 3",
   "language": "python",
   "name": "python3"
  },
  "language_info": {
   "codemirror_mode": {
    "name": "ipython",
    "version": 3
   },
   "file_extension": ".py",
   "mimetype": "text/x-python",
   "name": "python",
   "nbconvert_exporter": "python",
   "pygments_lexer": "ipython3",
   "version": "3.11.3"
  }
 },
 "nbformat": 4,
 "nbformat_minor": 4
}
