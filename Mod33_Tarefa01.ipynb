{
  "cells": [
    {
      "cell_type": "markdown",
      "metadata": {
        "id": "zANrrcWTqyG9"
      },
      "source": [
        "# Tarefa"
      ]
    },
    {
      "cell_type": "code",
      "execution_count": 48,
      "metadata": {
        "id": "uec2L_q_qyG_"
      },
      "outputs": [],
      "source": [
        "import pandas as pd\n",
        "import seaborn as sns\n",
        "import matplotlib.pyplot as plt\n",
        "import scipy.stats as st\n",
        "import numpy as np\n",
        "\n",
        "from statsmodels.stats.weightstats import ttest_ind\n",
        "from statsmodels.stats.weightstats import ztest"
      ]
    },
    {
      "cell_type": "code",
      "execution_count": 25,
      "metadata": {
        "id": "usxtqZjXqyHD"
      },
      "outputs": [],
      "source": [
        "pg = sns.load_dataset('penguins')"
      ]
    },
    {
      "cell_type": "code",
      "execution_count": 52,
      "metadata": {
        "colab": {
          "base_uri": "https://localhost:8080/",
          "height": 143
        },
        "id": "RRLg84_9qyHE",
        "outputId": "85338bf4-3e76-4e2c-94d4-f6ea441f0279"
      },
      "outputs": [
        {
          "output_type": "execute_result",
          "data": {
            "text/plain": [
              "        count         mean         std     min     25%     50%     75%     max\n",
              "sex                                                                           \n",
              "Female  165.0  3862.272727  666.172050  2700.0  3350.0  3650.0  4550.0  5200.0\n",
              "Male    168.0  4545.684524  787.628884  3250.0  3900.0  4300.0  5312.5  6300.0"
            ],
            "text/html": [
              "\n",
              "  <div id=\"df-110738ca-8cb4-4ad6-befc-69e54145f199\" class=\"colab-df-container\">\n",
              "    <div>\n",
              "<style scoped>\n",
              "    .dataframe tbody tr th:only-of-type {\n",
              "        vertical-align: middle;\n",
              "    }\n",
              "\n",
              "    .dataframe tbody tr th {\n",
              "        vertical-align: top;\n",
              "    }\n",
              "\n",
              "    .dataframe thead th {\n",
              "        text-align: right;\n",
              "    }\n",
              "</style>\n",
              "<table border=\"1\" class=\"dataframe\">\n",
              "  <thead>\n",
              "    <tr style=\"text-align: right;\">\n",
              "      <th></th>\n",
              "      <th>count</th>\n",
              "      <th>mean</th>\n",
              "      <th>std</th>\n",
              "      <th>min</th>\n",
              "      <th>25%</th>\n",
              "      <th>50%</th>\n",
              "      <th>75%</th>\n",
              "      <th>max</th>\n",
              "    </tr>\n",
              "    <tr>\n",
              "      <th>sex</th>\n",
              "      <th></th>\n",
              "      <th></th>\n",
              "      <th></th>\n",
              "      <th></th>\n",
              "      <th></th>\n",
              "      <th></th>\n",
              "      <th></th>\n",
              "      <th></th>\n",
              "    </tr>\n",
              "  </thead>\n",
              "  <tbody>\n",
              "    <tr>\n",
              "      <th>Female</th>\n",
              "      <td>165.0</td>\n",
              "      <td>3862.272727</td>\n",
              "      <td>666.172050</td>\n",
              "      <td>2700.0</td>\n",
              "      <td>3350.0</td>\n",
              "      <td>3650.0</td>\n",
              "      <td>4550.0</td>\n",
              "      <td>5200.0</td>\n",
              "    </tr>\n",
              "    <tr>\n",
              "      <th>Male</th>\n",
              "      <td>168.0</td>\n",
              "      <td>4545.684524</td>\n",
              "      <td>787.628884</td>\n",
              "      <td>3250.0</td>\n",
              "      <td>3900.0</td>\n",
              "      <td>4300.0</td>\n",
              "      <td>5312.5</td>\n",
              "      <td>6300.0</td>\n",
              "    </tr>\n",
              "  </tbody>\n",
              "</table>\n",
              "</div>\n",
              "    <div class=\"colab-df-buttons\">\n",
              "\n",
              "  <div class=\"colab-df-container\">\n",
              "    <button class=\"colab-df-convert\" onclick=\"convertToInteractive('df-110738ca-8cb4-4ad6-befc-69e54145f199')\"\n",
              "            title=\"Convert this dataframe to an interactive table.\"\n",
              "            style=\"display:none;\">\n",
              "\n",
              "  <svg xmlns=\"http://www.w3.org/2000/svg\" height=\"24px\" viewBox=\"0 -960 960 960\">\n",
              "    <path d=\"M120-120v-720h720v720H120Zm60-500h600v-160H180v160Zm220 220h160v-160H400v160Zm0 220h160v-160H400v160ZM180-400h160v-160H180v160Zm440 0h160v-160H620v160ZM180-180h160v-160H180v160Zm440 0h160v-160H620v160Z\"/>\n",
              "  </svg>\n",
              "    </button>\n",
              "\n",
              "  <style>\n",
              "    .colab-df-container {\n",
              "      display:flex;\n",
              "      gap: 12px;\n",
              "    }\n",
              "\n",
              "    .colab-df-convert {\n",
              "      background-color: #E8F0FE;\n",
              "      border: none;\n",
              "      border-radius: 50%;\n",
              "      cursor: pointer;\n",
              "      display: none;\n",
              "      fill: #1967D2;\n",
              "      height: 32px;\n",
              "      padding: 0 0 0 0;\n",
              "      width: 32px;\n",
              "    }\n",
              "\n",
              "    .colab-df-convert:hover {\n",
              "      background-color: #E2EBFA;\n",
              "      box-shadow: 0px 1px 2px rgba(60, 64, 67, 0.3), 0px 1px 3px 1px rgba(60, 64, 67, 0.15);\n",
              "      fill: #174EA6;\n",
              "    }\n",
              "\n",
              "    .colab-df-buttons div {\n",
              "      margin-bottom: 4px;\n",
              "    }\n",
              "\n",
              "    [theme=dark] .colab-df-convert {\n",
              "      background-color: #3B4455;\n",
              "      fill: #D2E3FC;\n",
              "    }\n",
              "\n",
              "    [theme=dark] .colab-df-convert:hover {\n",
              "      background-color: #434B5C;\n",
              "      box-shadow: 0px 1px 3px 1px rgba(0, 0, 0, 0.15);\n",
              "      filter: drop-shadow(0px 1px 2px rgba(0, 0, 0, 0.3));\n",
              "      fill: #FFFFFF;\n",
              "    }\n",
              "  </style>\n",
              "\n",
              "    <script>\n",
              "      const buttonEl =\n",
              "        document.querySelector('#df-110738ca-8cb4-4ad6-befc-69e54145f199 button.colab-df-convert');\n",
              "      buttonEl.style.display =\n",
              "        google.colab.kernel.accessAllowed ? 'block' : 'none';\n",
              "\n",
              "      async function convertToInteractive(key) {\n",
              "        const element = document.querySelector('#df-110738ca-8cb4-4ad6-befc-69e54145f199');\n",
              "        const dataTable =\n",
              "          await google.colab.kernel.invokeFunction('convertToInteractive',\n",
              "                                                    [key], {});\n",
              "        if (!dataTable) return;\n",
              "\n",
              "        const docLinkHtml = 'Like what you see? Visit the ' +\n",
              "          '<a target=\"_blank\" href=https://colab.research.google.com/notebooks/data_table.ipynb>data table notebook</a>'\n",
              "          + ' to learn more about interactive tables.';\n",
              "        element.innerHTML = '';\n",
              "        dataTable['output_type'] = 'display_data';\n",
              "        await google.colab.output.renderOutput(dataTable, element);\n",
              "        const docLink = document.createElement('div');\n",
              "        docLink.innerHTML = docLinkHtml;\n",
              "        element.appendChild(docLink);\n",
              "      }\n",
              "    </script>\n",
              "  </div>\n",
              "\n",
              "\n",
              "<div id=\"df-2209dfc6-aab9-4ccd-afb2-3cc8e38d84d1\">\n",
              "  <button class=\"colab-df-quickchart\" onclick=\"quickchart('df-2209dfc6-aab9-4ccd-afb2-3cc8e38d84d1')\"\n",
              "            title=\"Suggest charts\"\n",
              "            style=\"display:none;\">\n",
              "\n",
              "<svg xmlns=\"http://www.w3.org/2000/svg\" height=\"24px\"viewBox=\"0 0 24 24\"\n",
              "     width=\"24px\">\n",
              "    <g>\n",
              "        <path d=\"M19 3H5c-1.1 0-2 .9-2 2v14c0 1.1.9 2 2 2h14c1.1 0 2-.9 2-2V5c0-1.1-.9-2-2-2zM9 17H7v-7h2v7zm4 0h-2V7h2v10zm4 0h-2v-4h2v4z\"/>\n",
              "    </g>\n",
              "</svg>\n",
              "  </button>\n",
              "\n",
              "<style>\n",
              "  .colab-df-quickchart {\n",
              "      --bg-color: #E8F0FE;\n",
              "      --fill-color: #1967D2;\n",
              "      --hover-bg-color: #E2EBFA;\n",
              "      --hover-fill-color: #174EA6;\n",
              "      --disabled-fill-color: #AAA;\n",
              "      --disabled-bg-color: #DDD;\n",
              "  }\n",
              "\n",
              "  [theme=dark] .colab-df-quickchart {\n",
              "      --bg-color: #3B4455;\n",
              "      --fill-color: #D2E3FC;\n",
              "      --hover-bg-color: #434B5C;\n",
              "      --hover-fill-color: #FFFFFF;\n",
              "      --disabled-bg-color: #3B4455;\n",
              "      --disabled-fill-color: #666;\n",
              "  }\n",
              "\n",
              "  .colab-df-quickchart {\n",
              "    background-color: var(--bg-color);\n",
              "    border: none;\n",
              "    border-radius: 50%;\n",
              "    cursor: pointer;\n",
              "    display: none;\n",
              "    fill: var(--fill-color);\n",
              "    height: 32px;\n",
              "    padding: 0;\n",
              "    width: 32px;\n",
              "  }\n",
              "\n",
              "  .colab-df-quickchart:hover {\n",
              "    background-color: var(--hover-bg-color);\n",
              "    box-shadow: 0 1px 2px rgba(60, 64, 67, 0.3), 0 1px 3px 1px rgba(60, 64, 67, 0.15);\n",
              "    fill: var(--button-hover-fill-color);\n",
              "  }\n",
              "\n",
              "  .colab-df-quickchart-complete:disabled,\n",
              "  .colab-df-quickchart-complete:disabled:hover {\n",
              "    background-color: var(--disabled-bg-color);\n",
              "    fill: var(--disabled-fill-color);\n",
              "    box-shadow: none;\n",
              "  }\n",
              "\n",
              "  .colab-df-spinner {\n",
              "    border: 2px solid var(--fill-color);\n",
              "    border-color: transparent;\n",
              "    border-bottom-color: var(--fill-color);\n",
              "    animation:\n",
              "      spin 1s steps(1) infinite;\n",
              "  }\n",
              "\n",
              "  @keyframes spin {\n",
              "    0% {\n",
              "      border-color: transparent;\n",
              "      border-bottom-color: var(--fill-color);\n",
              "      border-left-color: var(--fill-color);\n",
              "    }\n",
              "    20% {\n",
              "      border-color: transparent;\n",
              "      border-left-color: var(--fill-color);\n",
              "      border-top-color: var(--fill-color);\n",
              "    }\n",
              "    30% {\n",
              "      border-color: transparent;\n",
              "      border-left-color: var(--fill-color);\n",
              "      border-top-color: var(--fill-color);\n",
              "      border-right-color: var(--fill-color);\n",
              "    }\n",
              "    40% {\n",
              "      border-color: transparent;\n",
              "      border-right-color: var(--fill-color);\n",
              "      border-top-color: var(--fill-color);\n",
              "    }\n",
              "    60% {\n",
              "      border-color: transparent;\n",
              "      border-right-color: var(--fill-color);\n",
              "    }\n",
              "    80% {\n",
              "      border-color: transparent;\n",
              "      border-right-color: var(--fill-color);\n",
              "      border-bottom-color: var(--fill-color);\n",
              "    }\n",
              "    90% {\n",
              "      border-color: transparent;\n",
              "      border-bottom-color: var(--fill-color);\n",
              "    }\n",
              "  }\n",
              "</style>\n",
              "\n",
              "  <script>\n",
              "    async function quickchart(key) {\n",
              "      const quickchartButtonEl =\n",
              "        document.querySelector('#' + key + ' button');\n",
              "      quickchartButtonEl.disabled = true;  // To prevent multiple clicks.\n",
              "      quickchartButtonEl.classList.add('colab-df-spinner');\n",
              "      try {\n",
              "        const charts = await google.colab.kernel.invokeFunction(\n",
              "            'suggestCharts', [key], {});\n",
              "      } catch (error) {\n",
              "        console.error('Error during call to suggestCharts:', error);\n",
              "      }\n",
              "      quickchartButtonEl.classList.remove('colab-df-spinner');\n",
              "      quickchartButtonEl.classList.add('colab-df-quickchart-complete');\n",
              "    }\n",
              "    (() => {\n",
              "      let quickchartButtonEl =\n",
              "        document.querySelector('#df-2209dfc6-aab9-4ccd-afb2-3cc8e38d84d1 button');\n",
              "      quickchartButtonEl.style.display =\n",
              "        google.colab.kernel.accessAllowed ? 'block' : 'none';\n",
              "    })();\n",
              "  </script>\n",
              "</div>\n",
              "\n",
              "    </div>\n",
              "  </div>\n"
            ]
          },
          "metadata": {},
          "execution_count": 52
        }
      ],
      "source": [
        "pg.groupby('sex')['body_mass_g'].describe()"
      ]
    },
    {
      "cell_type": "code",
      "source": [
        "(666.172050**2+787.628884**2)/2"
      ],
      "metadata": {
        "colab": {
          "base_uri": "https://localhost:8080/"
        },
        "id": "qAsGx6cUOjCE",
        "outputId": "f5593dde-0e7a-43e0-fc3f-18e256547d4f"
      },
      "execution_count": 46,
      "outputs": [
        {
          "output_type": "execute_result",
          "data": {
            "text/plain": [
              "532072.229556144"
            ]
          },
          "metadata": {},
          "execution_count": 46
        }
      ]
    },
    {
      "cell_type": "code",
      "execution_count": null,
      "metadata": {
        "colab": {
          "base_uri": "https://localhost:8080/",
          "height": 466
        },
        "id": "mbkUxbbNqyHH",
        "outputId": "6039fa74-178f-4cc5-a5a2-d5ba1cc21174"
      },
      "outputs": [
        {
          "output_type": "execute_result",
          "data": {
            "text/plain": [
              "<Axes: xlabel='sex', ylabel='body_mass_g'>"
            ]
          },
          "metadata": {},
          "execution_count": 23
        },
        {
          "output_type": "display_data",
          "data": {
            "text/plain": [
              "<Figure size 640x480 with 1 Axes>"
            ],
            "image/png": "[encoded data removed]"
          },
          "metadata": {}
        }
      ],
      "source": [
        "sns.pointplot(data=pg, x='sex', y = 'body_mass_g')"
      ]
    },
    {
      "cell_type": "markdown",
      "metadata": {
        "id": "F2Ec4H3mqyHI"
      },
      "source": [
        "## 1) Diferença de peso entre machos e fêmeas\n",
        "\n",
        "Na base de pinguins, podemos ver que há diferença de peso entre machos e fêmeas. Mas será que é uma conclusão extrapolável a toda a população de pinguins? Assumindo que essa amostra é aleatória e representativa da população de pinguins, realize um teste T com 5% de significância para verificar se podemos induzir esta conclusão para a população toda."
      ]
    },
    {
      "cell_type": "code",
      "source": [
        "# Via statsmodels\n",
        "\n",
        "x1 = pg.loc[pg['sex'] == 'Female', 'body_mass_g']\n",
        "x2 = pg.loc[pg['sex'] == 'Male', 'body_mass_g']\n",
        "\n",
        "teste_f = ztest(x1, x2, alternative='two-sided', usevar='pooled', value=0)\n",
        "\n",
        "print('ztest')\n",
        "print(f'Estatística do teste: {teste_f[0]:.2f}')\n",
        "print(f'             P-value: {teste_f[1]:.4f}')\n",
        "\n",
        "teste_t = ttest_ind(x1, x2, alternative='two-sided', usevar='unequal', value=0)\n",
        "\n",
        "print('\\nttest')\n",
        "print(f'Estatística do teste: {teste_t[0]:.2f}')\n",
        "print(f'             P-value: {teste_t[1]:.4f}')\n",
        "print(f'  Graus de liberdade: {teste_t[2]:.2f}')"
      ],
      "metadata": {
        "colab": {
          "base_uri": "https://localhost:8080/"
        },
        "id": "5Mp4stClAYDY",
        "outputId": "f7b91ebb-b8cf-425b-e07f-be0ef2f57be6"
      },
      "execution_count": 43,
      "outputs": [
        {
          "output_type": "stream",
          "name": "stdout",
          "text": [
            "ztest\n",
            "Estatística do teste: -8.54\n",
            "             P-value: 0.0000\n",
            "\n",
            "ttest\n",
            "Estatística do teste: -8.55\n",
            "             P-value: 0.0000\n",
            "  Graus de liberdade: 323.90\n"
          ]
        }
      ]
    },
    {
      "cell_type": "markdown",
      "source": [
        "## Resposta:\n",
        "\n",
        "Antes de se realizar o teste t é preciso realizar o teste f, pois a partir deste teste pode-se determinar se as variâncias são equivalentes ou não.\n",
        "\n",
        "H0: variancia1 = variancia2\n",
        "\n",
        "H1: variancia1 != variancia2\n",
        "\n",
        "O valor do p-value deu menor que 5% para bicaudal, portanto a probabilidade de erro ao rejeitar H0 e ficar com H1 é de menos que 5%. Dessa forma eu posso assumir que as variâncias entre o peso dos pinguins machos e femeas não são equivalentes.\n",
        "\n",
        "---\n",
        "\n",
        "Sabendo que as variâncias são diferentes vou realizar o teste t para variâncias não equivalentes.\n",
        "\n",
        "H0: média1 = média2\n",
        "\n",
        "H1: média1 != média2\n",
        "\n",
        "Como valor obtido para o p-value foi menor que 5% para bicaudal eu posso assumir que a probabilidade de estar errado ao rejeitar H0 é menor do que 5%. Portanto, a partir dos dados de peso dos pinguins da base de dados fornecida, pode-se assumir que o peso médio dos pinguins machos e fêmeas é diferente para toda a população."
      ],
      "metadata": {
        "id": "bLAeNNQxB4-Q"
      }
    },
    {
      "cell_type": "markdown",
      "metadata": {
        "id": "eVXqu9SgqyHK"
      },
      "source": [
        "## 2) (opcional) Representação gráfica do teste\n",
        "\n",
        "Siga os passos da aula para você poder visualizar a estatística do teste, sua distribuição e a região crítica do teste."
      ]
    },
    {
      "cell_type": "markdown",
      "metadata": {
        "id": "gCN0wvDIqyHM"
      },
      "source": [
        "## 3) Considere as espécies\n",
        "\n",
        "Repita o exercício I, uma vez para cada espécie de pinguim. Qual é o *p-value* associado a cada raça?"
      ]
    },
    {
      "cell_type": "code",
      "execution_count": 79,
      "metadata": {
        "id": "v_SbfW_MqyHN",
        "colab": {
          "base_uri": "https://localhost:8080/"
        },
        "outputId": "f0587a05-6341-45b6-b2ae-ffd3093f4d78"
      },
      "outputs": [
        {
          "output_type": "execute_result",
          "data": {
            "text/plain": [
              "array(['Adelie', 'Chinstrap', 'Gentoo'], dtype=object)"
            ]
          },
          "metadata": {},
          "execution_count": 79
        }
      ],
      "source": [
        "# Para realizar a análise de peso dos pinguins tomando como base a espécie dos pinguins.\n",
        "# Antes de mais nada é preciso saber quantas espécies existem na base e quais são elas.\n",
        "\n",
        "pg['species'].unique()\n",
        "\n",
        "# Na base de dados existem três espécies de pinguim.\n",
        "\n",
        "# Como o teste t compara duas amostras, os testes realizados anteriormente deverão ser realizados 03 vezes.\n",
        "# (Adelie x Chinstrap), (Chinstrap x Gentoo) e (Adelie x Gentoo)"
      ]
    },
    {
      "cell_type": "code",
      "source": [
        "# Removendo os dados em branco\n",
        "\n",
        "pg = pg.dropna()"
      ],
      "metadata": {
        "id": "hwASoJ-viawx"
      },
      "execution_count": 80,
      "outputs": []
    },
    {
      "cell_type": "code",
      "source": [
        "# Adelie x Chinstrap\n",
        "\n",
        "x1 = pg.loc[pg['species'] == 'Adelie', 'body_mass_g']\n",
        "x2 = pg.loc[pg['species'] == 'Chinstrap', 'body_mass_g']\n",
        "\n",
        "teste_f = ztest(x1, x2, alternative='two-sided', usevar='pooled', value=0)\n",
        "\n",
        "print('ztest')\n",
        "print(f'Estatística do teste: {teste_f[0]:.2f}')\n",
        "print(f'             P-value: {teste_f[1]:.4f}')\n",
        "\n",
        "teste_t = ttest_ind(x1, x2, alternative='two-sided', usevar='pooled', value=0)\n",
        "\n",
        "print('\\nttest')\n",
        "print(f'Estatística do teste: {teste_t[0]:.2f}')\n",
        "print(f'             P-value: {teste_t[1]:.4f}')\n",
        "print(f'  Graus de liberdade: {teste_t[2]:.2f}')"
      ],
      "metadata": {
        "colab": {
          "base_uri": "https://localhost:8080/"
        },
        "id": "z29iNRQYaX5t",
        "outputId": "07fdd085-f0f9-482d-fefe-aac737e3f0c1"
      },
      "execution_count": 81,
      "outputs": [
        {
          "output_type": "stream",
          "name": "stdout",
          "text": [
            "ztest\n",
            "Estatística do teste: -0.42\n",
            "             P-value: 0.6744\n",
            "\n",
            "ttest\n",
            "Estatística do teste: -0.42\n",
            "             P-value: 0.6748\n",
            "  Graus de liberdade: 212.00\n"
          ]
        }
      ]
    },
    {
      "cell_type": "code",
      "source": [
        "# Chinstrap x Gentoo\n",
        "\n",
        "x1 = pg.loc[pg['species'] == 'Chinstrap', 'body_mass_g']\n",
        "x2 = pg.loc[pg['species'] == 'Gentoo', 'body_mass_g']\n",
        "\n",
        "teste_f = ztest(x1, x2, alternative='two-sided', usevar='pooled', value=0)\n",
        "\n",
        "print('ztest')\n",
        "print(f'Estatística do teste: {teste_f[0]:.2f}')\n",
        "print(f'             P-value: {teste_f[1]:.4f}')\n",
        "\n",
        "teste_t = ttest_ind(x1, x2, alternative='two-sided', usevar='unequal', value=0)\n",
        "\n",
        "print('\\nttest')\n",
        "print(f'Estatística do teste: {teste_t[0]:.2f}')\n",
        "print(f'             P-value: {teste_t[1]:.4f}')\n",
        "print(f'  Graus de liberdade: {teste_t[2]:.2f}')"
      ],
      "metadata": {
        "colab": {
          "base_uri": "https://localhost:8080/"
        },
        "id": "0qnCioaAiHwe",
        "outputId": "b65c304d-fe6f-45c2-daee-7ee1bd494bca"
      },
      "execution_count": 76,
      "outputs": [
        {
          "output_type": "stream",
          "name": "stdout",
          "text": [
            "ztest\n",
            "Estatística do teste: -19.33\n",
            "             P-value: 0.0000\n",
            "\n",
            "ttest\n",
            "Estatística do teste: -20.76\n",
            "             P-value: 0.0000\n",
            "  Graus de liberdade: 169.62\n"
          ]
        }
      ]
    },
    {
      "cell_type": "code",
      "source": [
        "# Gentoo x Adelie\n",
        "\n",
        "x1 = pg.loc[pg['species'] == 'Gentoo', 'body_mass_g']\n",
        "x2 = pg.loc[pg['species'] == 'Adelie', 'body_mass_g']\n",
        "\n",
        "teste_f = ztest(x1, x2, alternative='two-sided', usevar='pooled', value=0)\n",
        "\n",
        "print('ztest')\n",
        "print(f'Estatística do teste: {teste_f[0]:.2f}')\n",
        "print(f'             P-value: {teste_f[1]:.4f}')\n",
        "\n",
        "teste_t = ttest_ind(x1, x2, alternative='two-sided', usevar='unequal', value=0)\n",
        "\n",
        "print('\\nttest')\n",
        "print(f'Estatística do teste: {teste_t[0]:.2f}')\n",
        "print(f'             P-value: {teste_t[1]:.4f}')\n",
        "print(f'  Graus de liberdade: {teste_t[2]:.2f}')"
      ],
      "metadata": {
        "colab": {
          "base_uri": "https://localhost:8080/"
        },
        "id": "_2Q8lLd_iPj7",
        "outputId": "2f250c29-cb2e-4207-a217-9ff1c809b3e5"
      },
      "execution_count": 78,
      "outputs": [
        {
          "output_type": "stream",
          "name": "stdout",
          "text": [
            "ztest\n",
            "Estatística do teste: 23.47\n",
            "             P-value: 0.0000\n",
            "\n",
            "ttest\n",
            "Estatística do teste: 23.25\n",
            "             P-value: 0.0000\n",
            "  Graus de liberdade: 242.14\n"
          ]
        }
      ]
    },
    {
      "cell_type": "markdown",
      "source": [
        "1. O teste f foi aplicado para todas as combinações\n",
        "2. Apenas a comparação entre a espécie Adelie e Chinstrap apresentou probabilidade de erro associado a rejeitar H0, em que assumir que as variâncias não são iguais é maior que 5%. Portanto, para esse caso assumiu-se que as variâncias são iguais.\n",
        "3. O teste t foi aplicado para todas as combinações\n",
        "4. Apenas a comparação entre a espécie Adelie e Chinstrap apresentou probabilidade de erro associado a rejeitar H0, em que assumir que as médias não são iguais é maior que 5%. Portanto, para esse caso assumiu-se que as médias são iguais. Ou melhor dizendo não existe embasamento estatístico suficiente para se afirmar que as médias de peso entre essas duas espécies é diferente.\n",
        "5. O Oposto ocorre ao se realizar as demais comparações, não existem dados estatísticos suficiente para se negar que as médias de peso entre as espécies comparadas é igual.\n"
      ],
      "metadata": {
        "id": "5NXRdVWXjoBn"
      }
    }
  ],
  "metadata": {
    "kernelspec": {
      "display_name": "Python 3",
      "language": "python",
      "name": "python3"
    },
    "language_info": {
      "codemirror_mode": {
        "name": "ipython",
        "version": 3
      },
      "file_extension": ".py",
      "mimetype": "text/x-python",
      "name": "python",
      "nbconvert_exporter": "python",
      "pygments_lexer": "ipython3",
      "version": "3.8.5"
    },
    "toc": {
      "base_numbering": 1,
      "nav_menu": {},
      "number_sections": false,
      "sideBar": true,
      "skip_h1_title": true,
      "title_cell": "Índice",
      "title_sidebar": "Conteúdo",
      "toc_cell": false,
      "toc_position": {},
      "toc_section_display": true,
      "toc_window_display": false
    },
    "varInspector": {
      "cols": {
        "lenName": 16,
        "lenType": 16,
        "lenVar": 40
      },
      "kernels_config": {
        "python": {
          "delete_cmd_postfix": "",
          "delete_cmd_prefix": "del ",
          "library": "var_list.py",
          "varRefreshCmd": "print(var_dic_list())"
        },
        "r": {
          "delete_cmd_postfix": ") ",
          "delete_cmd_prefix": "rm(",
          "library": "var_list.r",
          "varRefreshCmd": "cat(var_dic_list()) "
        }
      },
      "types_to_exclude": [
        "module",
        "function",
        "builtin_function_or_method",
        "instance",
        "_Feature"
      ],
      "window_display": false
    },
    "colab": {
      "provenance": []
    }
  },
  "nbformat": 4,
  "nbformat_minor": 0
}