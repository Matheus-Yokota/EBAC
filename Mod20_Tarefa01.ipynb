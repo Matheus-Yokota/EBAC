{
  "nbformat": 4,
  "nbformat_minor": 0,
  "metadata": {
    "colab": {
      "provenance": []
    },
    "kernelspec": {
      "name": "python3",
      "display_name": "Python 3"
    },
    "language_info": {
      "name": "python"
    }
  },
  "cells": [
    {
      "cell_type": "markdown",
      "source": [
        "# Fórmula de Bhaskara\n",
        "\n",
        "Asolução para uma função de segundo grau depende das suas raízes (valores de x). Como já vimos, os coeficientes precisam ser números reais e o angular diferente de zero. Sendo assim, temos a seguinte fórmula de Bhaskara:\n",
        "\n",
        "\n",
        "$$x=\\frac{-b\\pm\\sqrt{b^{2}-4.a.c}}{2.a}$$\n",
        "<center>Fórmula de Bhaskara.</center>\n",
        "\n",
        "\n",
        "**Discriminante**\n",
        "\n",
        "\n",
        "A figura dentro da raiz na fórmula de Bhaskara é nomeada de discriminante. Seu símbolo é a letra grega delta e apresenta a determinada fórmula:\n",
        "\n",
        "\n",
        "$$Δ=b^{2}-4.a.c$$\n",
        "\n",
        "\n",
        "<center>Fórmula da discriminante.</center>\n",
        "\n",
        "\n",
        "- Se o delta for maior que zero, a equação terá dois valores reais e distintos.\n",
        "- Se o delta for igual a zero, a equação terá somente um valor real ou dois resultados iguais.\n",
        "- Se o delta for menor que zero, a equação não possuirá valores reais."
      ],
      "metadata": {
        "id": "WIKJLT2MqudS"
      }
    }
  ]
}