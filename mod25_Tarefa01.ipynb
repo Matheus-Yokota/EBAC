{
  "nbformat": 4,
  "nbformat_minor": 0,
  "metadata": {
    "colab": {
      "provenance": []
    },
    "kernelspec": {
      "name": "python3",
      "display_name": "Python 3"
    },
    "language_info": {
      "name": "python"
    }
  },
  "cells": [
    {
      "cell_type": "markdown",
      "source": [
        "# Cálculo - Tarefa 01\n",
        "\n",
        "1. Marque quais desses métodos/algoritmos muito populares em ciência de dados são baseados no uso de derivada:\n",
        "\n",
        "    1. Método Mínimos Quadrados\n",
        "    2. Gradiente descendente\n",
        "    3. Newton Raphson\n",
        "    4. CART (Árvore de decisão)\n",
        "\n",
        "## Resposta:\n",
        "\n",
        "Entre os métodos apresentados acima, apenas o último método (Árvore de decisão) não é baseado no uso de derivadas. Os demais, Método de Mínimos Quadrados, Gradiente Descendente e Newton Raphson, são baseados no uso de derivadas.\n",
        "\n",
        "---\n",
        "\n",
        "2. Dada uma base de dados com uma variável resposta $y$ e um conjunto de variáveis explicativas. Considere uma estrutura de um modelo de regressão. Explique com suas palavras por que não é possível obter parâmetros que forneçam um erro quadrático médio (EQM) menor que o obtido com estimadores de mínimos quadrados.\n",
        "\n",
        "## Resposta:\n",
        "\n",
        "O método dos mínimos quadrados visa minimizar a soma dos quadrados dos resíduos, ou seja, a diferença entre os valores obtidos e os valores previstos. Estimar um erro quadrático médio menor do que é obtido pelo modelo significa obter parâmetros que se ajustam melhor aos dados, o que não seria consistente com a escolha do método. Ou seja, a escolha desse método já implica na obtenção dos menores parâmetros."
      ],
      "metadata": {
        "id": "2JRDBV8R3JDZ"
      }
    }
  ]
}